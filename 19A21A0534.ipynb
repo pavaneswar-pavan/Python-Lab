{
  "nbformat": 4,
  "nbformat_minor": 0,
  "metadata": {
    "colab": {
      "name": " 19A21A0534.ipynb",
      "provenance": [],
      "authorship_tag": "ABX9TyPHybUWzezou2t7POYMw6WW",
      "include_colab_link": true
    },
    "kernelspec": {
      "name": "python3",
      "display_name": "Python 3"
    },
    "language_info": {
      "name": "python"
    }
  },
  "cells": [
    {
      "cell_type": "markdown",
      "metadata": {
        "id": "view-in-github",
        "colab_type": "text"
      },
      "source": [
        "<a href=\"https://colab.research.google.com/github/pavaneswar-pavan/Python-Lab/blob/main/19A21A0534.ipynb\" target=\"_parent\"><img src=\"https://colab.research.google.com/assets/colab-badge.svg\" alt=\"Open In Colab\"/></a>"
      ]
    },
    {
      "cell_type": "code",
      "metadata": {
        "colab": {
          "base_uri": "https://localhost:8080/"
        },
        "id": "4cwRVIuXxK5b",
        "outputId": "b5588ce0-54b5-40b6-e2f5-b75870af3b04"
      },
      "source": [
        "                          #Exercise-1 - Basies\n",
        "# a) Running instructions in Interactive interpreter and a Python Script \n",
        "\n",
        "print(\"Hello, pavaneswar\")\n"
      ],
      "execution_count": 27,
      "outputs": [
        {
          "output_type": "stream",
          "text": [
            "Hello, pavaneswar\n"
          ],
          "name": "stdout"
        }
      ]
    },
    {
      "cell_type": "code",
      "metadata": {
        "colab": {
          "base_uri": "https://localhost:8080/",
          "height": 128
        },
        "id": "zY5JIhc4xMug",
        "outputId": "0bf4b1f1-ec83-42a6-e3bf-63c7535cf876"
      },
      "source": [
        "# b) Write a program to purposefully raise Indentation Error and Corret it\n",
        "if i range(10):\n",
        " print(i)  "
      ],
      "execution_count": 29,
      "outputs": [
        {
          "output_type": "error",
          "ename": "SyntaxError",
          "evalue": "ignored",
          "traceback": [
            "\u001b[0;36m  File \u001b[0;32m\"<ipython-input-29-4075e8a0ed8c>\"\u001b[0;36m, line \u001b[0;32m2\u001b[0m\n\u001b[0;31m    if i range(10):\u001b[0m\n\u001b[0m             ^\u001b[0m\n\u001b[0;31mSyntaxError\u001b[0m\u001b[0;31m:\u001b[0m invalid syntax\n"
          ]
        }
      ]
    },
    {
      "cell_type": "code",
      "metadata": {
        "colab": {
          "base_uri": "https://localhost:8080/"
        },
        "id": "_2_CI4mUxNdh",
        "outputId": "50309e79-0bf2-45b4-a5a0-8ee06b7984d4"
      },
      "source": [
        "                        #Exercise 2-Operations\n",
        "\n",
        "#Write a program to compute distance between two points taking input from the user (Pythagorean Theorem)\n",
        "import math\n",
        "x1=int(input(\"enter x1 value : \"))\n",
        "x2=int(input(\"enter x2 value : \"))\n",
        "\n",
        "y1=int(input(\"enter y1 value : \"))\n",
        "y2=int(input(\"enter y2 value : \"))\n",
        "\n",
        "print(\"Distance between given two points(x1,x2)(y1,y2) :\",float(math.sqrt((x2-x1)**2+(y2-y1)**2)))"
      ],
      "execution_count": 2,
      "outputs": [
        {
          "output_type": "stream",
          "text": [
            "enter x1 value : 10\n",
            "enter x2 value : 8\n",
            "enter y1 value : 6\n",
            "enter y2 value : 5\n",
            "Distance between given two points(x1,x2)(y1,y2) : 2.23606797749979\n"
          ],
          "name": "stdout"
        }
      ]
    },
    {
      "cell_type": "code",
      "metadata": {
        "id": "XpCVihU3xYaD"
      },
      "source": [
        "# Write a program add.py that takes 2 numbers as command line arguments and prints its sum.\n",
        "\n",
        "import sys\n",
        "\n",
        "a=int(sys.argv[1])\n",
        "b=int(sys.argv[2])\n",
        " \n",
        "print(\"Sum = \",(a+b))"
      ],
      "execution_count": null,
      "outputs": []
    },
    {
      "cell_type": "markdown",
      "metadata": {
        "id": "AhmZnbJdxk3y"
      },
      "source": [
        "output:\n",
        "PS C:\\Users\\pavan\\Desktop\\python\\exercise-2> python Q2.py 10 30\n",
        "Sum =  40\n"
      ]
    },
    {
      "cell_type": "code",
      "metadata": {
        "colab": {
          "base_uri": "https://localhost:8080/"
        },
        "id": "MLceQl1wx55J",
        "outputId": "83207a00-ee38-4a0d-b72b-3dec0437ecc3"
      },
      "source": [
        "# Write a Program for checking whether the given number is an even number or not. \n",
        "n=int(input(\"enter a number to check even/odd : \"))\n",
        "\n",
        "if (n%2==0):\n",
        "    print(\"Given numver \",n,\" is Even\")\n",
        "else:\n",
        "    print(\"Given numver \",n,\" is Odd\")    "
      ],
      "execution_count": 4,
      "outputs": [
        {
          "output_type": "stream",
          "text": [
            "enter a number to check even/odd : 11\n",
            "Given numver  11  is Odd\n"
          ],
          "name": "stdout"
        }
      ]
    },
    {
      "cell_type": "code",
      "metadata": {
        "colab": {
          "base_uri": "https://localhost:8080/"
        },
        "id": "R4ckRMg4yFg-",
        "outputId": "f77d31ff-c5fa-4cd6-fa0e-55fa28456fd9"
      },
      "source": [
        "                          #Exercise-3 Control Flow\n",
        "\n",
        "# Using a for loop, write a program that prints out the decimal equivalents of 1/2, 1/3, 1/4,. .1/10 \n",
        "\n",
        "n=int(input(\"enter limit for decimal equivalents of (1/2, 1/3, 1/4,. .1/10) : \"))\n",
        "\n",
        "for i in range(2,n):\n",
        "    print(\"1/\",i,\" = \",(1/i))"
      ],
      "execution_count": 5,
      "outputs": [
        {
          "output_type": "stream",
          "text": [
            "enter limit for decimal equivalents of (1/2, 1/3, 1/4,. .1/10) : 10\n",
            "1/ 2  =  0.5\n",
            "1/ 3  =  0.3333333333333333\n",
            "1/ 4  =  0.25\n",
            "1/ 5  =  0.2\n",
            "1/ 6  =  0.16666666666666666\n",
            "1/ 7  =  0.14285714285714285\n",
            "1/ 8  =  0.125\n",
            "1/ 9  =  0.1111111111111111\n"
          ],
          "name": "stdout"
        }
      ]
    },
    {
      "cell_type": "code",
      "metadata": {
        "colab": {
          "base_uri": "https://localhost:8080/"
        },
        "id": "MlmxxNLeyLt7",
        "outputId": "4aef88ee-387b-49ed-b86f-a7688562705f"
      },
      "source": [
        "#Write a program using a for loop that loops over a sequence. What is sequence? \n",
        "\n",
        "sem4_subjects=[\"python\",\"DAA\",\"OS\",\"DBMS\",\"P&S\",\"SE\"]\n",
        "\n",
        "print(\"-------Sem four Subjects--------\")\n",
        "for i in sem4_subjects:\n",
        "    print(i)"
      ],
      "execution_count": 6,
      "outputs": [
        {
          "output_type": "stream",
          "text": [
            "-------Sem four Subjects--------\n",
            "python\n",
            "DAA\n",
            "OS\n",
            "DBMS\n",
            "P&S\n",
            "SE\n"
          ],
          "name": "stdout"
        }
      ]
    },
    {
      "cell_type": "code",
      "metadata": {
        "colab": {
          "base_uri": "https://localhost:8080/"
        },
        "id": "ivT53NE4yPEA",
        "outputId": "022e4472-e75e-4f9f-ef93-e8436e0bca99"
      },
      "source": [
        "# Write a program using a while loop that asks the user for a number, and prints a countdown from that number to zero.\n",
        "\n",
        "n=int(input(\"enter starting point of Countdown: \"))\n",
        "\n",
        "print(\"Countdown Starts:-\")\n",
        "while n>=0:\n",
        "    print(n)\n",
        "    n-=1\n",
        "    "
      ],
      "execution_count": 7,
      "outputs": [
        {
          "output_type": "stream",
          "text": [
            "enter starting point of Countdown: 10\n",
            "Countdown Starts:-\n",
            "10\n",
            "9\n",
            "8\n",
            "7\n",
            "6\n",
            "5\n",
            "4\n",
            "3\n",
            "2\n",
            "1\n",
            "0\n"
          ],
          "name": "stdout"
        }
      ]
    },
    {
      "cell_type": "code",
      "metadata": {
        "colab": {
          "base_uri": "https://localhost:8080/"
        },
        "id": "I1AfHOdGyTb9",
        "outputId": "1bebd959-164a-4469-9c1f-2a4a41464776"
      },
      "source": [
        "                  #Exercise-4-Control Flow - Continued\n",
        "                   \n",
        "# Find the sum of all the primes below two million. \n",
        " \n",
        "        \n",
        "n=int(input(\"enter Limit for sum of primes : \"))\n",
        "psum=0\n",
        "for i in range(2,n+1):\n",
        "    c=0\n",
        "    for j in range(2,i+1):\n",
        "        if i%j==0:\n",
        "            c+=1\n",
        "    if(c==1):\n",
        "        print(i,end=' ')    \n",
        "        psum+=i\n",
        "\n",
        "print(\"\") \n",
        "print(\"Sum of sum number : \",psum)        \n",
        "        "
      ],
      "execution_count": 8,
      "outputs": [
        {
          "output_type": "stream",
          "text": [
            "enter Limit for sum of primes : 50\n",
            "2 3 5 7 11 13 17 19 23 29 31 37 41 43 47 \n",
            "Sum of sum number :  328\n"
          ],
          "name": "stdout"
        }
      ]
    },
    {
      "cell_type": "code",
      "metadata": {
        "colab": {
          "base_uri": "https://localhost:8080/"
        },
        "id": "O5TJFdTTyYLp",
        "outputId": "495c54bb-4f7a-401a-f6e6-b2cd88994e09"
      },
      "source": [
        "\"\"\"\n",
        "Each new term in the Fibonacci sequence is \n",
        "generated by adding the previous two tems. By starting with l and 2, the first 10 terms will be: \n",
        "1,2,3,5, 8, 13, 21, 34, 55, 89,..\n",
        "\"\"\"\n",
        "\n",
        "n=int(input(\"enter Limit for Fibonacci sequence : \"))\n",
        "\n",
        "a=0\n",
        "b=1\n",
        "c=a+b\n",
        "while c<n:\n",
        "    print(c,end=' ')\n",
        "    a=b\n",
        "    b=c\n",
        "    c=a+b\n",
        "    \n",
        "    "
      ],
      "execution_count": 15,
      "outputs": [
        {
          "output_type": "stream",
          "text": [
            "enter Limit for Fibonacci sequence : 50\n",
            "1 2 3 5 8 13 21 34 "
          ],
          "name": "stdout"
        }
      ]
    },
    {
      "cell_type": "code",
      "metadata": {
        "colab": {
          "base_uri": "https://localhost:8080/"
        },
        "id": "_w_D5TzHyc-w",
        "outputId": "2ce93aec-843a-4628-f2d0-d3aafbd94959"
      },
      "source": [
        "\n",
        "\"\"\"\n",
        " By considering the terms in the Fibonacci sequence whose values do not exceed four million, \n",
        "find the sum of the even-valued terms.\n",
        "\"\"\"\n",
        "\n",
        "n=int(input(\"enter Limit for Fibonacci sequence : \"))\n",
        "\n",
        "a=0\n",
        "b=1\n",
        "c=a+b\n",
        "fsum=0\n",
        "while c<n:\n",
        "    a=b\n",
        "    b=c\n",
        "    c=a+b\n",
        "    if c%2==0:\n",
        "        print(c,end=' ')\n",
        "        fsum+=c\n",
        "print(\"\")        \n",
        "print(\"sum of even valued termed fibonacci numbers = \",fsum)        "
      ],
      "execution_count": 10,
      "outputs": [
        {
          "output_type": "stream",
          "text": [
            "enter Limit for Fibonacci sequence : 50\n",
            "2 8 34 \n",
            "sum of even valued termed fibonacci numbers =  44\n"
          ],
          "name": "stdout"
        }
      ]
    },
    {
      "cell_type": "code",
      "metadata": {
        "colab": {
          "base_uri": "https://localhost:8080/"
        },
        "id": "IcroD5nxyiKH",
        "outputId": "956020e5-872c-4749-8d31-a2d2366c32a8"
      },
      "source": [
        "                                  #Exercise 5- DS \n",
        "\n",
        "#Write a program to count the numbers of characters in the string and store them in a dictionary data structure \n",
        "text=input(\"enter you name : \")\n",
        "dic={}\n",
        "for ch in text:\n",
        "  keys=dic.keys()\n",
        "\n",
        "  if ch in keys:\n",
        "    dic[ch]=dic[ch]+1\n",
        "  else:\n",
        "    dic[ch]=1\n",
        "print(\"Dictionary is : \",dic)    \n",
        "\n",
        "\n",
        "\n"
      ],
      "execution_count": 11,
      "outputs": [
        {
          "output_type": "stream",
          "text": [
            "enter you name : pavaneswar\n",
            "Dictionary is :  {'p': 1, 'a': 3, 'v': 1, 'n': 1, 'e': 1, 's': 1, 'w': 1, 'r': 1}\n"
          ],
          "name": "stdout"
        }
      ]
    },
    {
      "cell_type": "code",
      "metadata": {
        "colab": {
          "base_uri": "https://localhost:8080/"
        },
        "id": "gVKXa_wNym6Q",
        "outputId": "edc3127f-a986-4dbf-b51a-b408eb11d0d3"
      },
      "source": [
        "\"\"\"\n",
        " Write a program to use split and join methods in the string and trace a birthday with a \n",
        "dictionary data structure.\n",
        "\"\"\"\n",
        "text={\"pavan\":\"02-june-2000\",\"ganesh\":\"23-may-2001\"}\n",
        "\n",
        "name=input(\"which person Dob you want : \")\n",
        "l=name.split()\n",
        " \n",
        "for i in l:\n",
        "  if i in text.keys():\n",
        "    print(\" \".join([i,\"birthday is \",text[i]]))\n",
        "\n",
        " \n",
        "\n",
        "\n"
      ],
      "execution_count": 13,
      "outputs": [
        {
          "output_type": "stream",
          "text": [
            "which person Dob you want : ganesh\n",
            "ganesh birthday is  23-may-2001\n"
          ],
          "name": "stdout"
        }
      ]
    },
    {
      "cell_type": "code",
      "metadata": {
        "colab": {
          "base_uri": "https://localhost:8080/"
        },
        "id": "IUeK60tCyvik",
        "outputId": "b447c14b-2811-4eda-c053-2517efaf3f1a"
      },
      "source": [
        "                            #Exercise-6 DS - Continued\n",
        "\n",
        "#Write a program combine lists that combines these lists into a dictionary. \n",
        "\n",
        "Regno=[\"534\",\"558\",\"546\",\"564\",\"565\",\"530\"]\n",
        "Student_names=[\"pavaneswar\",\"haneef\",\"ganesh\",\"ajay\",\"karthik\",\"somu\"]\n",
        "\n",
        "print(\"Given List are :\")\n",
        "print(\"Student Names: \",Student_names)\n",
        "print(\"Register no Values: \",Regno)\n",
        "\n",
        "dic=dict(zip(Regno,Student_names))\n",
        "print(\"\\n Dictionary: \",dic)\n",
        "\n",
        " "
      ],
      "execution_count": 14,
      "outputs": [
        {
          "output_type": "stream",
          "text": [
            "Given List are :\n",
            "Student Names:  ['pavaneswar', 'haneef', 'ganesh', 'ajay', 'karthik', 'somu']\n",
            "Register no Values:  ['534', '558', '546', '564', '565', '530']\n",
            "\n",
            " Dictionary:  {'534': 'pavaneswar', '558': 'haneef', '546': 'ganesh', '564': 'ajay', '565': 'karthik', '530': 'somu'}\n"
          ],
          "name": "stdout"
        }
      ]
    },
    {
      "cell_type": "code",
      "metadata": {
        "id": "tPiaEluUy04J"
      },
      "source": [
        "\n",
        "#Write a program to count frequency of characters in a given file. Can you use character frequency \n",
        "#to tell whether the given file is a Python program file, C program file or a text file?\n",
        "\n",
        "filetype=['.py','.c','.txt']\n",
        "fn=input(\"enter the file name : \")\n",
        "f=open(fn,'r')\n",
        "count=dict()\n",
        "\n",
        "print(\"Given file is \",end=\"\")\n",
        "for ft in filetype:\n",
        "  if (ft in fn):\n",
        "    if(ft=='.py'):\n",
        "      print(\"python file\")\n",
        "    elif(ft=='.c'):\n",
        "      print(\"c file\")\n",
        "    elif(ft=='.txt'):\n",
        "      print(\"Text file\")    \n",
        "for line in f:\n",
        "  for ch in line:\n",
        "    if ch in count:\n",
        "      count[ch]=count[ch]+1\n",
        "    else:\n",
        "      count[ch]=1\n",
        "\n",
        "print(count)\n",
        "f.close()\n",
        "\n",
        "       \n",
        "\n",
        " "
      ],
      "execution_count": null,
      "outputs": []
    },
    {
      "cell_type": "markdown",
      "metadata": {
        "id": "I6o0h4Cazhd8"
      },
      "source": [
        "output:\n",
        "\n",
        "enter the file name:data.txt\n",
        "Given file is Text file\n",
        "{'p':1,'a':2,'v':3,'a':4,'n':5}"
      ]
    },
    {
      "cell_type": "code",
      "metadata": {
        "id": "Gq2PIh2M0Ate"
      },
      "source": [
        "                            #Exercise 7 Files\n",
        "                             \n",
        "#Write a program to print each line of a file in reverse order.\n",
        "\n",
        "file=open(\"code.txt\",\"r\")\n",
        "if file:\n",
        "  st=file.read()\n",
        "  print(\"File content is: \\n\",st)\n",
        "file.close()\n",
        "\n",
        "print()\n",
        "lines=st.split(\"\\n\")\n",
        "\n",
        "for ln in lines:\n",
        "  i=len(ln)-1\n",
        "  while(i>=0):\n",
        "    print(ln[i],end=\"\")\n",
        "    i=i-1\n",
        "  print() "
      ],
      "execution_count": null,
      "outputs": []
    },
    {
      "cell_type": "markdown",
      "metadata": {
        "id": "ie5Uazxz0alf"
      },
      "source": [
        "output:\n",
        "    File content is:\n",
        "    welcome to python programming...!\n",
        "    pavaneswar\n",
        "    Swanandhra college of engineering and technology\n",
        "\n",
        "!..gnimmargorp nothyp ot emocleW\n",
        "rawsenavap\n",
        "ygolonhcet dna gnirreenigne fo egelloc arhdnanraws"
      ]
    },
    {
      "cell_type": "code",
      "metadata": {
        "id": "b6t4H65w1eS-"
      },
      "source": [
        "#Write a program to compute the number of characters, words and lines in a file.\n",
        " \n",
        "no_char=no_words=no_lines=0\n",
        "file=open(\"abc.txt\",\"r\")\n",
        "\n",
        "print(\"File Content : \\n\")\n",
        "for line in file:\n",
        "  ln=line.split(\"\\n\")\n",
        "  print(ln)\n",
        "  words=ln.split()\n",
        "  no_lines+=1\n",
        "  no_words+=len(words)\n",
        "  no_char+=len(line)\n",
        "\n",
        "file.close()\n",
        "print(\"\\n No of Lines : \",no_lines,\" Words:\",no_words,\" Characters:\",no_char)\n",
        "\n"
      ],
      "execution_count": null,
      "outputs": []
    },
    {
      "cell_type": "markdown",
      "metadata": {
        "id": "EofY8aiF1wbW"
      },
      "source": [
        "output:\n",
        "\n",
        "File content:\n",
        "\n",
        "welcome to python programming...!\n",
        "pavaneswar\n",
        "cse-A\n",
        "\n",
        "no of lines:3 words:6 characters:48"
      ]
    },
    {
      "cell_type": "code",
      "metadata": {
        "colab": {
          "base_uri": "https://localhost:8080/"
        },
        "id": "X9JlrKGu2ZtZ",
        "outputId": "9e239d20-a646-477d-abe7-0dd757069f55"
      },
      "source": [
        "                            #Exercise-8 Functions\n",
        "\"\"\"\n",
        "Write a function ball collide that takes two balls as parameters and computes if they arecolliding. \n",
        "Your function should return a Boolean representing whether or not the balls are colliding. Hint: \n",
        "Represent a ball on a plane as a tuple of (x, y, r), r being the radius \n",
        "If (distance between two balls centres)= (sum of their radii) then (they are \n",
        "colliding) \n",
        "\"\"\"\n",
        "import math\n",
        "\n",
        "def collide(ball1,ball2):\n",
        "   x1,y1,r1=ball1\n",
        "   x2,y2,r2=ball2\n",
        "\n",
        "   print(\"Ball-1: \",ball1)\n",
        "   print(\"Ball-2: \",ball2)\n",
        "\n",
        "   d=math.sqrt((x2-x1)**2+(y2-y1)**2)\n",
        "   print(\"Centroid Distance of two balls: \",d)\n",
        "   print(\"sum of radius ball-1 and ball-2 is {}+{}={}\".format(r1,r2,r1+r2))\n",
        "\n",
        "   if(d<=r1+r2):\n",
        "     return True\n",
        "   else:\n",
        "     return False\n",
        "\n",
        "b1=(-2,-4,3)\n",
        "b2=(4,6,3)\n",
        "if collide(b1,b2):\n",
        "  print(\"BAll are Colliode...!\")\n",
        "else:\n",
        "  print(\"BAll are not Collide...!\")  \n",
        "\n",
        "  \n"
      ],
      "execution_count": 18,
      "outputs": [
        {
          "output_type": "stream",
          "text": [
            "Ball-1:  (-2, -4, 3)\n",
            "Ball-2:  (4, 6, 3)\n",
            "Centroid Distance of two balls:  11.661903789690601\n",
            "sum of radius ball-1 and ball-2 is 3+3=6\n",
            "BAll are not Collide...!\n"
          ],
          "name": "stdout"
        }
      ]
    },
    {
      "cell_type": "code",
      "metadata": {
        "colab": {
          "base_uri": "https://localhost:8080/"
        },
        "id": "VOiMEZiS4bGq",
        "outputId": "305c734a-5ae7-47f5-b610-81a02ef6c884"
      },
      "source": [
        "#Find mean, median, mode for the given set of numbers in a list. \n",
        "\n",
        "def mean(n_list):\n",
        "  return sum(n_list)/len(n_list)\n",
        "def median(n_list):\n",
        "  n_list.sort()\n",
        "  n=len(n_list)\n",
        "  mid=n/2\n",
        "  if(n%2==1):\n",
        "     return n_list[int(mid)]\n",
        "  else:\n",
        "     \n",
        "    return (n_list[mid-1]+n_list[mid])/2\n",
        "\n",
        "def mode(n_list):\n",
        "  n_list.sort()\n",
        "  temp=[]\n",
        "  i=0    \n",
        "  while i<len(n_list):\n",
        "    temp.append(n_list.count(n_list[i]))\n",
        "    i+=1\n",
        "\n",
        "  dic=dict(zip(n_list,temp))\n",
        "  mode={k for(k,v) in dic.items() if v==max(temp)}\n",
        "  return mode\n",
        "\n",
        "n_list1=[10,10,20,20,20,30,40,50,30]\n",
        "\n",
        "print(\"Given list is : \",n_list1)\n",
        "print(\"Mean of the given list: \",mean(n_list1))\n",
        "print(\"Median of the given list: \",median(n_list1))\n",
        "print(\"Mode of the given list: \",mode(n_list1))\n"
      ],
      "execution_count": 65,
      "outputs": [
        {
          "output_type": "stream",
          "text": [
            "Given list is :  [10, 10, 20, 20, 20, 30, 40, 50, 30]\n",
            "Mean of the given list:  25.555555555555557\n",
            "Median of the given list:  20\n",
            "Mode of the given list:  {20}\n"
          ],
          "name": "stdout"
        }
      ]
    },
    {
      "cell_type": "code",
      "metadata": {
        "colab": {
          "base_uri": "https://localhost:8080/"
        },
        "id": "vd1Uj4IO8iwC",
        "outputId": "2fad1148-46c1-4ae1-8ffc-141867027bae"
      },
      "source": [
        "                    #Exercise-9 Functions-Continued\n",
        "\"\"\"\n",
        "a) Write a function nealy equal to test whether two strings are nearly equal. Two strings a and bare \n",
        "nearly equal when a can be generated by a single mutation on b.\n",
        "\"\"\"\n",
        "def nearly_equal(str1,str2):\n",
        "  count=0\n",
        "  i=j=0\n",
        "  while(i<len(str1) and j<len(str2)):\n",
        "    if (str1[i]!=str2[j]):\n",
        "      count+=1\n",
        "      if (len(str1)>len(str2)):\n",
        "        i+=1\n",
        "      elif (len(str1)==len(str2)):\n",
        "        pass\n",
        "      else:\n",
        "        i-=1\n",
        "    if(count>1):\n",
        "      return False\n",
        "    i+=1\n",
        "    j+=1\n",
        "  if (count<2):\n",
        "    return True\n",
        "\n",
        "s=input(\"enter string-1:\")\n",
        "s1=input(\"enter string-2:\")\n",
        "blen=nearly_equal(s,s1)\n",
        "if (blen):\n",
        "  print(\"String are nearly equal\")\n",
        "else:\n",
        "    print(\"String are NOT equal\")\n"
      ],
      "execution_count": 34,
      "outputs": [
        {
          "output_type": "stream",
          "text": [
            "enter string-1:pavaneswar\n",
            "enter string-2:eswar\n",
            "String are NOT equal\n"
          ],
          "name": "stdout"
        }
      ]
    },
    {
      "cell_type": "code",
      "metadata": {
        "colab": {
          "base_uri": "https://localhost:8080/"
        },
        "id": "Hm4vO_zgCV8S",
        "outputId": "b82cc89d-9a69-4a84-ad22-6b4e4f11329f"
      },
      "source": [
        "# b) Write a function dup to find all duplicates in the list. \n",
        "\n",
        "def duplicates(n_list):\n",
        "  temp=[]\n",
        "  for i in n_list:\n",
        "    coun=n_list.count(i)\n",
        "    if (coun>1 and (i not in temp)):\n",
        "      temp.append(i)\n",
        "  print(\"Duplicates in the list:\",temp) \n",
        "\n",
        "ls=[10,20,10,5,6,87,5]\n",
        "print(\"Given elements in the list:\",ls)\n",
        "duplicates(ls)"
      ],
      "execution_count": 37,
      "outputs": [
        {
          "output_type": "stream",
          "text": [
            "Given elements in the list: [10, 20, 10, 5, 6, 87, 5]\n",
            "Duplicates in the list: [10, 5]\n"
          ],
          "name": "stdout"
        }
      ]
    },
    {
      "cell_type": "code",
      "metadata": {
        "colab": {
          "base_uri": "https://localhost:8080/"
        },
        "id": "sP60Ji7ODghb",
        "outputId": "d5a8e3d0-8ce8-4d16-b718-d7ca9c875a6e"
      },
      "source": [
        "# c) Write a function unique to find all the unique elements of a list.\n",
        "\n",
        "def unique(n_list):\n",
        "  print(\"Unique Elements in the list: \",end=\"\")\n",
        "  for i in n_list:\n",
        "    cnt=n_list.count(i)\n",
        "    if cnt==1:\n",
        "       print(i,end=\" \")\n",
        "  \n",
        "\n",
        "ls=[1,2,3,1,2,3,534,546,558]\n",
        "print(\"Given elements in the list:\",ls)\n",
        "unique(ls)  \n"
      ],
      "execution_count": 45,
      "outputs": [
        {
          "output_type": "stream",
          "text": [
            "Given elements in the list: [1, 2, 3, 1, 2, 3, 534, 546, 558]\n",
            "Unique Elements in the list: 534 546 558 "
          ],
          "name": "stdout"
        }
      ]
    },
    {
      "cell_type": "code",
      "metadata": {
        "colab": {
          "base_uri": "https://localhost:8080/"
        },
        "id": "oiXF_SmtFnQn",
        "outputId": "9c6392e8-ce34-4228-9e25-5507f2f1002e"
      },
      "source": [
        "            #Exercise-10- Functions - Problem Solving\n",
        "\n",
        "# a) Write a function cumulative product to compute cumulative product of a list of numbers.\n",
        "\n",
        "def c_product(n_list):\n",
        "  pro=1\n",
        "  temp=[]\n",
        "  for i in n_list:\n",
        "    pro*=i\n",
        "    temp.append(pro)\n",
        "  return temp  \n",
        "\n",
        "ls=[1,2,4,3,5]\n",
        "print(\"Given list is: \",ls)\n",
        "print(\"Cumulative Producet list is: \",c_product(ls))\n"
      ],
      "execution_count": 49,
      "outputs": [
        {
          "output_type": "stream",
          "text": [
            "Given list is:  [1, 2, 4, 3, 5]\n",
            "Cumulative Producet list is:  [1, 2, 8, 24, 120]\n"
          ],
          "name": "stdout"
        }
      ]
    },
    {
      "cell_type": "code",
      "metadata": {
        "colab": {
          "base_uri": "https://localhost:8080/"
        },
        "id": "8A6Nxi4GGcpj",
        "outputId": "be14fad6-3384-43ea-e11a-c0ce061595ba"
      },
      "source": [
        "#b) Write a function reverse to reverse a list. Without using the reverse function.\n",
        "def reverse_list(n_list):\n",
        "  i=0\n",
        "  j=len(n_list)-1\n",
        "  while (i<=j):\n",
        "    temp=n_list[i]\n",
        "    n_list[i]=n_list[j]\n",
        "    n_list[j]=temp\n",
        "    j-=1\n",
        "    i+=1\n",
        "  return n_list\n",
        "\n",
        "ls=[10,20,30,40,50]\n",
        "print(\"Given List is: \",ls)\n",
        "reverse_list(ls)\n",
        "print(\"Reverse of the List is:\",ls)"
      ],
      "execution_count": 53,
      "outputs": [
        {
          "output_type": "stream",
          "text": [
            "Given List is:  [10, 20, 30, 40, 50]\n",
            "Reverse of the List is: [50, 40, 30, 20, 10]\n"
          ],
          "name": "stdout"
        }
      ]
    },
    {
      "cell_type": "code",
      "metadata": {
        "colab": {
          "base_uri": "https://localhost:8080/"
        },
        "id": "CumSJsp8GjNf",
        "outputId": "e18e65a8-5c9f-4470-946b-f7939fb5dae3"
      },
      "source": [
        "# c) Write function to compute ged, lem of two numbers. Each function shouldn't exceed one line. \n",
        "gcd=lambda a,b: a if b==0 else gcd(a,a%b)\n",
        "lcm=lambda a,b: (a*b)/gcd(a,b)\n",
        "\n",
        "x=2\n",
        "y=4\n",
        "print(\"Given Number: \",x,y)\n",
        "print(\"GCD is: \",gcd(x,y))\n",
        "print(\"LCM is: \",lcm(x,y))\n"
      ],
      "execution_count": 57,
      "outputs": [
        {
          "output_type": "stream",
          "text": [
            "Given Number:  2 4\n",
            "GCD is:  2\n",
            "LCM is:  4.0\n"
          ],
          "name": "stdout"
        }
      ]
    },
    {
      "cell_type": "code",
      "metadata": {
        "id": "6PAM-xJjKBKQ"
      },
      "source": [
        "                        # Exercise 11- Multi-D Lists\n",
        "\n",
        "#a) Write a program that defines a matrix and prints \n"
      ],
      "execution_count": null,
      "outputs": []
    }
  ]
}