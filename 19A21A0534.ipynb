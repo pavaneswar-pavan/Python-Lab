{
  "nbformat": 4,
  "nbformat_minor": 0,
  "metadata": {
    "colab": {
      "name": " 19A21A0534.ipynb",
      "provenance": [],
      "authorship_tag": "ABX9TyMq/K09wTdiOI2ZARDutet2",
      "include_colab_link": true
    },
    "kernelspec": {
      "name": "python3",
      "display_name": "Python 3"
    },
    "language_info": {
      "name": "python"
    }
  },
  "cells": [
    {
      "cell_type": "markdown",
      "metadata": {
        "id": "view-in-github",
        "colab_type": "text"
      },
      "source": [
        "<a href=\"https://colab.research.google.com/github/pavaneswar-pavan/Python-Lab/blob/main/19A21A0534.ipynb\" target=\"_parent\"><img src=\"https://colab.research.google.com/assets/colab-badge.svg\" alt=\"Open In Colab\"/></a>"
      ]
    },
    {
      "cell_type": "markdown",
      "metadata": {
        "id": "yJj_GpcZPDk5"
      },
      "source": [
        "**PythonProgramming Lab**\n",
        "\n",
        "\n",
        "---\n",
        "\n",
        "\n",
        "Name:- K.pavaneswar`\n",
        ">  \n",
        "\n",
        "\n",
        "Reg.no:- 19A21A0534\n",
        "> \n",
        "section:- CSE-A"
      ]
    },
    {
      "cell_type": "code",
      "metadata": {
        "colab": {
          "base_uri": "https://localhost:8080/"
        },
        "id": "4cwRVIuXxK5b",
        "outputId": "b5588ce0-54b5-40b6-e2f5-b75870af3b04"
      },
      "source": [
        "                          #Exercise-1 - Basies\n",
        "# a) Running instructions in Interactive interpreter and a Python Script \n",
        "\n",
        "print(\"Hello, pavaneswar\")\n"
      ],
      "execution_count": null,
      "outputs": [
        {
          "output_type": "stream",
          "text": [
            "Hello, pavaneswar\n"
          ],
          "name": "stdout"
        }
      ]
    },
    {
      "cell_type": "code",
      "metadata": {
        "colab": {
          "base_uri": "https://localhost:8080/",
          "height": 128
        },
        "id": "zY5JIhc4xMug",
        "outputId": "0bf4b1f1-ec83-42a6-e3bf-63c7535cf876"
      },
      "source": [
        "# b) Write a program to purposefully raise Indentation Error and Corret it\n",
        "if i range(10):\n",
        " print(i)  "
      ],
      "execution_count": null,
      "outputs": [
        {
          "output_type": "error",
          "ename": "SyntaxError",
          "evalue": "ignored",
          "traceback": [
            "\u001b[0;36m  File \u001b[0;32m\"<ipython-input-29-4075e8a0ed8c>\"\u001b[0;36m, line \u001b[0;32m2\u001b[0m\n\u001b[0;31m    if i range(10):\u001b[0m\n\u001b[0m             ^\u001b[0m\n\u001b[0;31mSyntaxError\u001b[0m\u001b[0;31m:\u001b[0m invalid syntax\n"
          ]
        }
      ]
    },
    {
      "cell_type": "code",
      "metadata": {
        "colab": {
          "base_uri": "https://localhost:8080/"
        },
        "id": "_2_CI4mUxNdh",
        "outputId": "50309e79-0bf2-45b4-a5a0-8ee06b7984d4"
      },
      "source": [
        "                        #Exercise 2-Operations\n",
        "\n",
        "#Write a program to compute distance between two points taking input from the user (Pythagorean Theorem)\n",
        "import math\n",
        "x1=int(input(\"enter x1 value : \"))\n",
        "x2=int(input(\"enter x2 value : \"))\n",
        "\n",
        "y1=int(input(\"enter y1 value : \"))\n",
        "y2=int(input(\"enter y2 value : \"))\n",
        "\n",
        "print(\"Distance between given two points(x1,x2)(y1,y2) :\",float(math.sqrt((x2-x1)**2+(y2-y1)**2)))"
      ],
      "execution_count": null,
      "outputs": [
        {
          "output_type": "stream",
          "text": [
            "enter x1 value : 10\n",
            "enter x2 value : 8\n",
            "enter y1 value : 6\n",
            "enter y2 value : 5\n",
            "Distance between given two points(x1,x2)(y1,y2) : 2.23606797749979\n"
          ],
          "name": "stdout"
        }
      ]
    },
    {
      "cell_type": "code",
      "metadata": {
        "id": "XpCVihU3xYaD"
      },
      "source": [
        "# Write a program add.py that takes 2 numbers as command line arguments and prints its sum.\n",
        "\n",
        "import sys\n",
        "\n",
        "a=int(sys.argv[1])\n",
        "b=int(sys.argv[2])\n",
        " \n",
        "print(\"Sum = \",(a+b))"
      ],
      "execution_count": null,
      "outputs": []
    },
    {
      "cell_type": "markdown",
      "metadata": {
        "id": "AhmZnbJdxk3y"
      },
      "source": [
        "output:\n",
        "PS C:\\Users\\pavan\\Desktop\\python\\exercise-2> python Q2.py 10 30\n",
        "Sum =  40\n"
      ]
    },
    {
      "cell_type": "code",
      "metadata": {
        "colab": {
          "base_uri": "https://localhost:8080/"
        },
        "id": "MLceQl1wx55J",
        "outputId": "83207a00-ee38-4a0d-b72b-3dec0437ecc3"
      },
      "source": [
        "# Write a Program for checking whether the given number is an even number or not. \n",
        "n=int(input(\"enter a number to check even/odd : \"))\n",
        "\n",
        "if (n%2==0):\n",
        "    print(\"Given numver \",n,\" is Even\")\n",
        "else:\n",
        "    print(\"Given numver \",n,\" is Odd\")    "
      ],
      "execution_count": null,
      "outputs": [
        {
          "output_type": "stream",
          "text": [
            "enter a number to check even/odd : 11\n",
            "Given numver  11  is Odd\n"
          ],
          "name": "stdout"
        }
      ]
    },
    {
      "cell_type": "code",
      "metadata": {
        "colab": {
          "base_uri": "https://localhost:8080/"
        },
        "id": "R4ckRMg4yFg-",
        "outputId": "f77d31ff-c5fa-4cd6-fa0e-55fa28456fd9"
      },
      "source": [
        "                          #Exercise-3 Control Flow\n",
        "\n",
        "# Using a for loop, write a program that prints out the decimal equivalents of 1/2, 1/3, 1/4,. .1/10 \n",
        "\n",
        "n=int(input(\"enter limit for decimal equivalents of (1/2, 1/3, 1/4,. .1/10) : \"))\n",
        "\n",
        "for i in range(2,n):\n",
        "    print(\"1/\",i,\" = \",(1/i))"
      ],
      "execution_count": null,
      "outputs": [
        {
          "output_type": "stream",
          "text": [
            "enter limit for decimal equivalents of (1/2, 1/3, 1/4,. .1/10) : 10\n",
            "1/ 2  =  0.5\n",
            "1/ 3  =  0.3333333333333333\n",
            "1/ 4  =  0.25\n",
            "1/ 5  =  0.2\n",
            "1/ 6  =  0.16666666666666666\n",
            "1/ 7  =  0.14285714285714285\n",
            "1/ 8  =  0.125\n",
            "1/ 9  =  0.1111111111111111\n"
          ],
          "name": "stdout"
        }
      ]
    },
    {
      "cell_type": "code",
      "metadata": {
        "colab": {
          "base_uri": "https://localhost:8080/"
        },
        "id": "MlmxxNLeyLt7",
        "outputId": "4aef88ee-387b-49ed-b86f-a7688562705f"
      },
      "source": [
        "#Write a program using a for loop that loops over a sequence. What is sequence? \n",
        "\n",
        "sem4_subjects=[\"python\",\"DAA\",\"OS\",\"DBMS\",\"P&S\",\"SE\"]\n",
        "\n",
        "print(\"-------Sem four Subjects--------\")\n",
        "for i in sem4_subjects:\n",
        "    print(i)"
      ],
      "execution_count": null,
      "outputs": [
        {
          "output_type": "stream",
          "text": [
            "-------Sem four Subjects--------\n",
            "python\n",
            "DAA\n",
            "OS\n",
            "DBMS\n",
            "P&S\n",
            "SE\n"
          ],
          "name": "stdout"
        }
      ]
    },
    {
      "cell_type": "code",
      "metadata": {
        "colab": {
          "base_uri": "https://localhost:8080/"
        },
        "id": "ivT53NE4yPEA",
        "outputId": "022e4472-e75e-4f9f-ef93-e8436e0bca99"
      },
      "source": [
        "# Write a program using a while loop that asks the user for a number, and prints a countdown from that number to zero.\n",
        "\n",
        "n=int(input(\"enter starting point of Countdown: \"))\n",
        "\n",
        "print(\"Countdown Starts:-\")\n",
        "while n>=0:\n",
        "    print(n)\n",
        "    n-=1\n",
        "    "
      ],
      "execution_count": null,
      "outputs": [
        {
          "output_type": "stream",
          "text": [
            "enter starting point of Countdown: 10\n",
            "Countdown Starts:-\n",
            "10\n",
            "9\n",
            "8\n",
            "7\n",
            "6\n",
            "5\n",
            "4\n",
            "3\n",
            "2\n",
            "1\n",
            "0\n"
          ],
          "name": "stdout"
        }
      ]
    },
    {
      "cell_type": "code",
      "metadata": {
        "colab": {
          "base_uri": "https://localhost:8080/"
        },
        "id": "I1AfHOdGyTb9",
        "outputId": "1bebd959-164a-4469-9c1f-2a4a41464776"
      },
      "source": [
        "                  #Exercise-4-Control Flow - Continued\n",
        "                   \n",
        "# Find the sum of all the primes below two million. \n",
        " \n",
        "        \n",
        "n=int(input(\"enter Limit for sum of primes : \"))\n",
        "psum=0\n",
        "for i in range(2,n+1):\n",
        "    c=0\n",
        "    for j in range(2,i+1):\n",
        "        if i%j==0:\n",
        "            c+=1\n",
        "    if(c==1):\n",
        "        print(i,end=' ')    \n",
        "        psum+=i\n",
        "\n",
        "print(\"\") \n",
        "print(\"Sum of sum number : \",psum)        \n",
        "        "
      ],
      "execution_count": null,
      "outputs": [
        {
          "output_type": "stream",
          "text": [
            "enter Limit for sum of primes : 50\n",
            "2 3 5 7 11 13 17 19 23 29 31 37 41 43 47 \n",
            "Sum of sum number :  328\n"
          ],
          "name": "stdout"
        }
      ]
    },
    {
      "cell_type": "code",
      "metadata": {
        "colab": {
          "base_uri": "https://localhost:8080/"
        },
        "id": "O5TJFdTTyYLp",
        "outputId": "495c54bb-4f7a-401a-f6e6-b2cd88994e09"
      },
      "source": [
        "\"\"\"\n",
        "Each new term in the Fibonacci sequence is \n",
        "generated by adding the previous two tems. By starting with l and 2, the first 10 terms will be: \n",
        "1,2,3,5, 8, 13, 21, 34, 55, 89,..\n",
        "\"\"\"\n",
        "\n",
        "n=int(input(\"enter Limit for Fibonacci sequence : \"))\n",
        "\n",
        "a=0\n",
        "b=1\n",
        "c=a+b\n",
        "while c<n:\n",
        "    print(c,end=' ')\n",
        "    a=b\n",
        "    b=c\n",
        "    c=a+b\n",
        "    \n",
        "    "
      ],
      "execution_count": null,
      "outputs": [
        {
          "output_type": "stream",
          "text": [
            "enter Limit for Fibonacci sequence : 50\n",
            "1 2 3 5 8 13 21 34 "
          ],
          "name": "stdout"
        }
      ]
    },
    {
      "cell_type": "code",
      "metadata": {
        "colab": {
          "base_uri": "https://localhost:8080/"
        },
        "id": "_w_D5TzHyc-w",
        "outputId": "2ce93aec-843a-4628-f2d0-d3aafbd94959"
      },
      "source": [
        "\n",
        "\"\"\"\n",
        " By considering the terms in the Fibonacci sequence whose values do not exceed four million, \n",
        "find the sum of the even-valued terms.\n",
        "\"\"\"\n",
        "\n",
        "n=int(input(\"enter Limit for Fibonacci sequence : \"))\n",
        "\n",
        "a=0\n",
        "b=1\n",
        "c=a+b\n",
        "fsum=0\n",
        "while c<n:\n",
        "    a=b\n",
        "    b=c\n",
        "    c=a+b\n",
        "    if c%2==0:\n",
        "        print(c,end=' ')\n",
        "        fsum+=c\n",
        "print(\"\")        \n",
        "print(\"sum of even valued termed fibonacci numbers = \",fsum)        "
      ],
      "execution_count": null,
      "outputs": [
        {
          "output_type": "stream",
          "text": [
            "enter Limit for Fibonacci sequence : 50\n",
            "2 8 34 \n",
            "sum of even valued termed fibonacci numbers =  44\n"
          ],
          "name": "stdout"
        }
      ]
    },
    {
      "cell_type": "code",
      "metadata": {
        "colab": {
          "base_uri": "https://localhost:8080/"
        },
        "id": "IcroD5nxyiKH",
        "outputId": "956020e5-872c-4749-8d31-a2d2366c32a8"
      },
      "source": [
        "                                  #Exercise 5- DS \n",
        "\n",
        "#Write a program to count the numbers of characters in the string and store them in a dictionary data structure \n",
        "text=input(\"enter you name : \")\n",
        "dic={}\n",
        "for ch in text:\n",
        "  keys=dic.keys()\n",
        "\n",
        "  if ch in keys:\n",
        "    dic[ch]=dic[ch]+1\n",
        "  else:\n",
        "    dic[ch]=1\n",
        "print(\"Dictionary is : \",dic)    \n",
        "\n",
        "\n",
        "\n"
      ],
      "execution_count": null,
      "outputs": [
        {
          "output_type": "stream",
          "text": [
            "enter you name : pavaneswar\n",
            "Dictionary is :  {'p': 1, 'a': 3, 'v': 1, 'n': 1, 'e': 1, 's': 1, 'w': 1, 'r': 1}\n"
          ],
          "name": "stdout"
        }
      ]
    },
    {
      "cell_type": "code",
      "metadata": {
        "colab": {
          "base_uri": "https://localhost:8080/"
        },
        "id": "gVKXa_wNym6Q",
        "outputId": "edc3127f-a986-4dbf-b51a-b408eb11d0d3"
      },
      "source": [
        "\"\"\"\n",
        " Write a program to use split and join methods in the string and trace a birthday with a \n",
        "dictionary data structure.\n",
        "\"\"\"\n",
        "text={\"pavan\":\"02-june-2000\",\"ganesh\":\"23-may-2001\"}\n",
        "\n",
        "name=input(\"which person Dob you want : \")\n",
        "l=name.split()\n",
        " \n",
        "for i in l:\n",
        "  if i in text.keys():\n",
        "    print(\" \".join([i,\"birthday is \",text[i]]))\n",
        "\n",
        " \n",
        "\n",
        "\n"
      ],
      "execution_count": null,
      "outputs": [
        {
          "output_type": "stream",
          "text": [
            "which person Dob you want : ganesh\n",
            "ganesh birthday is  23-may-2001\n"
          ],
          "name": "stdout"
        }
      ]
    },
    {
      "cell_type": "code",
      "metadata": {
        "colab": {
          "base_uri": "https://localhost:8080/"
        },
        "id": "IUeK60tCyvik",
        "outputId": "b447c14b-2811-4eda-c053-2517efaf3f1a"
      },
      "source": [
        "                            #Exercise-6 DS - Continued\n",
        "\n",
        "#Write a program combine lists that combines these lists into a dictionary. \n",
        "\n",
        "Regno=[\"534\",\"558\",\"546\",\"564\",\"565\",\"530\"]\n",
        "Student_names=[\"pavaneswar\",\"haneef\",\"ganesh\",\"ajay\",\"karthik\",\"somu\"]\n",
        "\n",
        "print(\"Given List are :\")\n",
        "print(\"Student Names: \",Student_names)\n",
        "print(\"Register no Values: \",Regno)\n",
        "\n",
        "dic=dict(zip(Regno,Student_names))\n",
        "print(\"\\n Dictionary: \",dic)\n",
        "\n",
        " "
      ],
      "execution_count": null,
      "outputs": [
        {
          "output_type": "stream",
          "text": [
            "Given List are :\n",
            "Student Names:  ['pavaneswar', 'haneef', 'ganesh', 'ajay', 'karthik', 'somu']\n",
            "Register no Values:  ['534', '558', '546', '564', '565', '530']\n",
            "\n",
            " Dictionary:  {'534': 'pavaneswar', '558': 'haneef', '546': 'ganesh', '564': 'ajay', '565': 'karthik', '530': 'somu'}\n"
          ],
          "name": "stdout"
        }
      ]
    },
    {
      "cell_type": "code",
      "metadata": {
        "id": "tPiaEluUy04J"
      },
      "source": [
        "\n",
        "#Write a program to count frequency of characters in a given file. Can you use character frequency \n",
        "#to tell whether the given file is a Python program file, C program file or a text file?\n",
        "\n",
        "filetype=['.py','.c','.txt']\n",
        "fn=input(\"enter the file name : \")\n",
        "f=open(fn,'r')\n",
        "count=dict()\n",
        "\n",
        "print(\"Given file is \",end=\"\")\n",
        "for ft in filetype:\n",
        "  if (ft in fn):\n",
        "    if(ft=='.py'):\n",
        "      print(\"python file\")\n",
        "    elif(ft=='.c'):\n",
        "      print(\"c file\")\n",
        "    elif(ft=='.txt'):\n",
        "      print(\"Text file\")    \n",
        "for line in f:\n",
        "  for ch in line:\n",
        "    if ch in count:\n",
        "      count[ch]=count[ch]+1\n",
        "    else:\n",
        "      count[ch]=1\n",
        "\n",
        "print(count)\n",
        "f.close()\n",
        "\n",
        "       \n",
        "\n",
        " "
      ],
      "execution_count": null,
      "outputs": []
    },
    {
      "cell_type": "markdown",
      "metadata": {
        "id": "I6o0h4Cazhd8"
      },
      "source": [
        "output:\n",
        "\n",
        "enter the file name:data.txt\n",
        "Given file is Text file\n",
        "{'p':1,'a':2,'v':3,'a':4,'n':5}"
      ]
    },
    {
      "cell_type": "code",
      "metadata": {
        "id": "Gq2PIh2M0Ate"
      },
      "source": [
        "                            #Exercise 7 Files\n",
        "                             \n",
        "#Write a program to print each line of a file in reverse order.\n",
        "\n",
        "file=open(\"code.txt\",\"r\")\n",
        "if file:\n",
        "  st=file.read()\n",
        "  print(\"File content is: \\n\",st)\n",
        "file.close()\n",
        "\n",
        "print()\n",
        "lines=st.split(\"\\n\")\n",
        "\n",
        "for ln in lines:\n",
        "  i=len(ln)-1\n",
        "  while(i>=0):\n",
        "    print(ln[i],end=\"\")\n",
        "    i=i-1\n",
        "  print() "
      ],
      "execution_count": null,
      "outputs": []
    },
    {
      "cell_type": "markdown",
      "metadata": {
        "id": "ie5Uazxz0alf"
      },
      "source": [
        "output:\n",
        "    File content is:\n",
        "    welcome to python programming...!\n",
        "    pavaneswar\n",
        "    Swanandhra college of engineering and technology\n",
        "\n",
        "!..gnimmargorp nothyp ot emocleW\n",
        "rawsenavap\n",
        "ygolonhcet dna gnirreenigne fo egelloc arhdnanraws"
      ]
    },
    {
      "cell_type": "code",
      "metadata": {
        "id": "b6t4H65w1eS-"
      },
      "source": [
        "#Write a program to compute the number of characters, words and lines in a file.\n",
        " \n",
        "no_char=no_words=no_lines=0\n",
        "file=open(\"abc.txt\",\"r\")\n",
        "\n",
        "print(\"File Content : \\n\")\n",
        "for line in file:\n",
        "  ln=line.split(\"\\n\")\n",
        "  print(ln)\n",
        "  words=ln.split()\n",
        "  no_lines+=1\n",
        "  no_words+=len(words)\n",
        "  no_char+=len(line)\n",
        "\n",
        "file.close()\n",
        "print(\"\\n No of Lines : \",no_lines,\" Words:\",no_words,\" Characters:\",no_char)\n",
        "\n"
      ],
      "execution_count": null,
      "outputs": []
    },
    {
      "cell_type": "markdown",
      "metadata": {
        "id": "EofY8aiF1wbW"
      },
      "source": [
        "output:\n",
        "\n",
        "File content:\n",
        "\n",
        "welcome to python programming...!\n",
        "pavaneswar\n",
        "cse-A\n",
        "\n",
        "no of lines:3 words:6 characters:48"
      ]
    },
    {
      "cell_type": "code",
      "metadata": {
        "colab": {
          "base_uri": "https://localhost:8080/"
        },
        "id": "X9JlrKGu2ZtZ",
        "outputId": "9e239d20-a646-477d-abe7-0dd757069f55"
      },
      "source": [
        "                            #Exercise-8 Functions\n",
        "\"\"\"\n",
        "Write a function ball collide that takes two balls as parameters and computes if they arecolliding. \n",
        "Your function should return a Boolean representing whether or not the balls are colliding. Hint: \n",
        "Represent a ball on a plane as a tuple of (x, y, r), r being the radius \n",
        "If (distance between two balls centres)= (sum of their radii) then (they are \n",
        "colliding) \n",
        "\"\"\"\n",
        "import math\n",
        "\n",
        "def collide(ball1,ball2):\n",
        "   x1,y1,r1=ball1\n",
        "   x2,y2,r2=ball2\n",
        "\n",
        "   print(\"Ball-1: \",ball1)\n",
        "   print(\"Ball-2: \",ball2)\n",
        "\n",
        "   d=math.sqrt((x2-x1)**2+(y2-y1)**2)\n",
        "   print(\"Centroid Distance of two balls: \",d)\n",
        "   print(\"sum of radius ball-1 and ball-2 is {}+{}={}\".format(r1,r2,r1+r2))\n",
        "\n",
        "   if(d<=r1+r2):\n",
        "     return True\n",
        "   else:\n",
        "     return False\n",
        "\n",
        "b1=(-2,-4,3)\n",
        "b2=(4,6,3)\n",
        "if collide(b1,b2):\n",
        "  print(\"BAll are Colliode...!\")\n",
        "else:\n",
        "  print(\"BAll are not Collide...!\")  \n",
        "\n",
        "  \n"
      ],
      "execution_count": null,
      "outputs": [
        {
          "output_type": "stream",
          "text": [
            "Ball-1:  (-2, -4, 3)\n",
            "Ball-2:  (4, 6, 3)\n",
            "Centroid Distance of two balls:  11.661903789690601\n",
            "sum of radius ball-1 and ball-2 is 3+3=6\n",
            "BAll are not Collide...!\n"
          ],
          "name": "stdout"
        }
      ]
    },
    {
      "cell_type": "code",
      "metadata": {
        "colab": {
          "base_uri": "https://localhost:8080/"
        },
        "id": "VOiMEZiS4bGq",
        "outputId": "305c734a-5ae7-47f5-b610-81a02ef6c884"
      },
      "source": [
        "#Find mean, median, mode for the given set of numbers in a list. \n",
        "\n",
        "def mean(n_list):\n",
        "  return sum(n_list)/len(n_list)\n",
        "def median(n_list):\n",
        "  n_list.sort()\n",
        "  n=len(n_list)\n",
        "  mid=n/2\n",
        "  if(n%2==1):\n",
        "     return n_list[int(mid)]\n",
        "  else:\n",
        "     \n",
        "    return (n_list[mid-1]+n_list[mid])/2\n",
        "\n",
        "def mode(n_list):\n",
        "  n_list.sort()\n",
        "  temp=[]\n",
        "  i=0    \n",
        "  while i<len(n_list):\n",
        "    temp.append(n_list.count(n_list[i]))\n",
        "    i+=1\n",
        "\n",
        "  dic=dict(zip(n_list,temp))\n",
        "  mode={k for(k,v) in dic.items() if v==max(temp)}\n",
        "  return mode\n",
        "\n",
        "n_list1=[10,10,20,20,20,30,40,50,30]\n",
        "\n",
        "print(\"Given list is : \",n_list1)\n",
        "print(\"Mean of the given list: \",mean(n_list1))\n",
        "print(\"Median of the given list: \",median(n_list1))\n",
        "print(\"Mode of the given list: \",mode(n_list1))\n"
      ],
      "execution_count": null,
      "outputs": [
        {
          "output_type": "stream",
          "text": [
            "Given list is :  [10, 10, 20, 20, 20, 30, 40, 50, 30]\n",
            "Mean of the given list:  25.555555555555557\n",
            "Median of the given list:  20\n",
            "Mode of the given list:  {20}\n"
          ],
          "name": "stdout"
        }
      ]
    },
    {
      "cell_type": "code",
      "metadata": {
        "colab": {
          "base_uri": "https://localhost:8080/"
        },
        "id": "vd1Uj4IO8iwC",
        "outputId": "2fad1148-46c1-4ae1-8ffc-141867027bae"
      },
      "source": [
        "                    #Exercise-9 Functions-Continued\n",
        "\"\"\"\n",
        "a) Write a function nealy equal to test whether two strings are nearly equal. Two strings a and bare \n",
        "nearly equal when a can be generated by a single mutation on b.\n",
        "\"\"\"\n",
        "def nearly_equal(str1,str2):\n",
        "  count=0\n",
        "  i=j=0\n",
        "  while(i<len(str1) and j<len(str2)):\n",
        "    if (str1[i]!=str2[j]):\n",
        "      count+=1\n",
        "      if (len(str1)>len(str2)):\n",
        "        i+=1\n",
        "      elif (len(str1)==len(str2)):\n",
        "        pass\n",
        "      else:\n",
        "        i-=1\n",
        "    if(count>1):\n",
        "      return False\n",
        "    i+=1\n",
        "    j+=1\n",
        "  if (count<2):\n",
        "    return True\n",
        "\n",
        "s=input(\"enter string-1:\")\n",
        "s1=input(\"enter string-2:\")\n",
        "blen=nearly_equal(s,s1)\n",
        "if (blen):\n",
        "  print(\"String are nearly equal\")\n",
        "else:\n",
        "    print(\"String are NOT equal\")\n"
      ],
      "execution_count": null,
      "outputs": [
        {
          "output_type": "stream",
          "text": [
            "enter string-1:pavaneswar\n",
            "enter string-2:eswar\n",
            "String are NOT equal\n"
          ],
          "name": "stdout"
        }
      ]
    },
    {
      "cell_type": "code",
      "metadata": {
        "colab": {
          "base_uri": "https://localhost:8080/"
        },
        "id": "Hm4vO_zgCV8S",
        "outputId": "b82cc89d-9a69-4a84-ad22-6b4e4f11329f"
      },
      "source": [
        "# b) Write a function dup to find all duplicates in the list. \n",
        "\n",
        "def duplicates(n_list):\n",
        "  temp=[]\n",
        "  for i in n_list:\n",
        "    coun=n_list.count(i)\n",
        "    if (coun>1 and (i not in temp)):\n",
        "      temp.append(i)\n",
        "  print(\"Duplicates in the list:\",temp) \n",
        "\n",
        "ls=[10,20,10,5,6,87,5]\n",
        "print(\"Given elements in the list:\",ls)\n",
        "duplicates(ls)"
      ],
      "execution_count": null,
      "outputs": [
        {
          "output_type": "stream",
          "text": [
            "Given elements in the list: [10, 20, 10, 5, 6, 87, 5]\n",
            "Duplicates in the list: [10, 5]\n"
          ],
          "name": "stdout"
        }
      ]
    },
    {
      "cell_type": "code",
      "metadata": {
        "colab": {
          "base_uri": "https://localhost:8080/"
        },
        "id": "sP60Ji7ODghb",
        "outputId": "d5a8e3d0-8ce8-4d16-b718-d7ca9c875a6e"
      },
      "source": [
        "# c) Write a function unique to find all the unique elements of a list.\n",
        "\n",
        "def unique(n_list):\n",
        "  print(\"Unique Elements in the list: \",end=\"\")\n",
        "  for i in n_list:\n",
        "    cnt=n_list.count(i)\n",
        "    if cnt==1:\n",
        "       print(i,end=\" \")\n",
        "  \n",
        "\n",
        "ls=[1,2,3,1,2,3,534,546,558]\n",
        "print(\"Given elements in the list:\",ls)\n",
        "unique(ls)  \n"
      ],
      "execution_count": null,
      "outputs": [
        {
          "output_type": "stream",
          "text": [
            "Given elements in the list: [1, 2, 3, 1, 2, 3, 534, 546, 558]\n",
            "Unique Elements in the list: 534 546 558 "
          ],
          "name": "stdout"
        }
      ]
    },
    {
      "cell_type": "code",
      "metadata": {
        "colab": {
          "base_uri": "https://localhost:8080/"
        },
        "id": "oiXF_SmtFnQn",
        "outputId": "9c6392e8-ce34-4228-9e25-5507f2f1002e"
      },
      "source": [
        "            #Exercise-10- Functions - Problem Solving\n",
        "\n",
        "# a) Write a function cumulative product to compute cumulative product of a list of numbers.\n",
        "\n",
        "def c_product(n_list):\n",
        "  pro=1\n",
        "  temp=[]\n",
        "  for i in n_list:\n",
        "    pro*=i\n",
        "    temp.append(pro)\n",
        "  return temp  \n",
        "\n",
        "ls=[1,2,4,3,5]\n",
        "print(\"Given list is: \",ls)\n",
        "print(\"Cumulative Producet list is: \",c_product(ls))\n"
      ],
      "execution_count": null,
      "outputs": [
        {
          "output_type": "stream",
          "text": [
            "Given list is:  [1, 2, 4, 3, 5]\n",
            "Cumulative Producet list is:  [1, 2, 8, 24, 120]\n"
          ],
          "name": "stdout"
        }
      ]
    },
    {
      "cell_type": "code",
      "metadata": {
        "colab": {
          "base_uri": "https://localhost:8080/"
        },
        "id": "8A6Nxi4GGcpj",
        "outputId": "be14fad6-3384-43ea-e11a-c0ce061595ba"
      },
      "source": [
        "#b) Write a function reverse to reverse a list. Without using the reverse function.\n",
        "def reverse_list(n_list):\n",
        "  i=0\n",
        "  j=len(n_list)-1\n",
        "  while (i<=j):\n",
        "    temp=n_list[i]\n",
        "    n_list[i]=n_list[j]\n",
        "    n_list[j]=temp\n",
        "    j-=1\n",
        "    i+=1\n",
        "  return n_list\n",
        "\n",
        "ls=[10,20,30,40,50]\n",
        "print(\"Given List is: \",ls)\n",
        "reverse_list(ls)\n",
        "print(\"Reverse of the List is:\",ls)"
      ],
      "execution_count": null,
      "outputs": [
        {
          "output_type": "stream",
          "text": [
            "Given List is:  [10, 20, 30, 40, 50]\n",
            "Reverse of the List is: [50, 40, 30, 20, 10]\n"
          ],
          "name": "stdout"
        }
      ]
    },
    {
      "cell_type": "code",
      "metadata": {
        "colab": {
          "base_uri": "https://localhost:8080/"
        },
        "id": "CumSJsp8GjNf",
        "outputId": "e18e65a8-5c9f-4470-946b-f7939fb5dae3"
      },
      "source": [
        "# c) Write function to compute ged, lem of two numbers. Each function shouldn't exceed one line. \n",
        "gcd=lambda a,b: a if b==0 else gcd(a,a%b)\n",
        "lcm=lambda a,b: (a*b)/gcd(a,b)\n",
        "\n",
        "x=2\n",
        "y=4\n",
        "print(\"Given Number: \",x,y)\n",
        "print(\"GCD is: \",gcd(x,y))\n",
        "print(\"LCM is: \",lcm(x,y))\n"
      ],
      "execution_count": null,
      "outputs": [
        {
          "output_type": "stream",
          "text": [
            "Given Number:  2 4\n",
            "GCD is:  2\n",
            "LCM is:  4.0\n"
          ],
          "name": "stdout"
        }
      ]
    },
    {
      "cell_type": "code",
      "metadata": {
        "id": "6PAM-xJjKBKQ"
      },
      "source": [
        "                        # Exercise 11- Multi-D Lists\n",
        "\n",
        "#a) Write a program that defines a matrix and prints \n"
      ],
      "execution_count": null,
      "outputs": []
    },
    {
      "cell_type": "code",
      "metadata": {
        "id": "51imut6JdBQ7"
      },
      "source": [
        "#b) Write a program to perform addition of two square matrices"
      ],
      "execution_count": null,
      "outputs": []
    },
    {
      "cell_type": "code",
      "metadata": {
        "id": "PE_Ik0S-dgRp"
      },
      "source": [
        "#c) Write a program to perform multiplication of two square matrices"
      ],
      "execution_count": null,
      "outputs": []
    },
    {
      "cell_type": "code",
      "metadata": {
        "id": "D-cXaitldklv"
      },
      "source": [
        "#Exercise-12\n",
        "# b)Write a script thtat imports request and fetch content from the page.Eg(wiki)\n",
        "import requests\n",
        "\n",
        "s=requests.get('https://www.google.com')\n",
        "\n",
        "print(\"statuscode : \",s.status_code)\n",
        "\n",
        "print(\"header content: \",s.headers['content-type'])\n",
        "\n",
        "print(s.text)"
      ],
      "execution_count": null,
      "outputs": []
    },
    {
      "cell_type": "markdown",
      "metadata": {
        "id": "7UIL8LcEeFyT"
      },
      "source": [
        "output:\n",
        "\"\"\"\n",
        "statuscode :  200\n",
        "header content:  text/html; charset=ISO-8859-1\n",
        "<!doctype html><html itemscope=\"\" itemtype=\"http://schema.org/WebPage\" lang=\"en-IN\"><head><meta content=\"text/html; charset=UTF-8\" http-equiv=\"Content-Type\"><meta content=\"/images/branding/googleg/1x/googleg_standard_color_128dp.png\" itemprop=\"image\"><title>Google</title><script nonce=\"5dcJqWfksl1xx605qZ6ieg==\">(function(){window.google={kEI:'1cHyYOrkM4uvoATWq6H4Aw',kEXPI:'0,772215,1,530316,56877,954,5105,206,4804,925,1391,383,246,5,304,1050,5251,6384,1116131,1197782,109,392,328984,51224,16114,28684,17572,4858,1362,9291,3026,3891,856,12843,4012,978,13228,3847,10622,1141,7512,5875,4520,2774,919,5081,1593,1279,2212,530,149,1103,840,2196,4101,3514,606,2023,1777,520,14670,3227,1990,855,7,4774,7580,5096,7877,5036,3407,908,2,941,2614,13142,3,346,230,1014,1,5444,149,11323,2652,4,1253,275,2304,1238,5225,576,74,1983,2626,2012,4070,7434,2110,1714,1012,2038,2658,4242,3115,30,5663,7965,2305,638,1494,5586,3772,6763,665,2522,3308,2527,4094,20,2236,883,5,908,3,1166,2375,1,11337,37,3336,1814,283,912,5992,10618,1908,2,1394,737,788,8,1273,1715,2,3057,2538,2,1,3,3004,20,599,615,3,33,3,6075,784,254,108,386,2377,93,550,1780,1275,1076,3502,1576,3,471,1633,186,1002,2410,2140,2,365,675,1160,1269,21,1030,184,200,1991,2,1712,291,1440,33,724,183,1340,2,233,1143,1815,1668,1063,3,117,6,748,2918,2,4,1,1,250,1426,13,1447,2454,2,12,2,1,704,585,242,222,1897,694,2,2,5,10,2,2,5,42,2184,119,395,642,324,2,1,343,683,7,122,900,1509,426,469,85,325,127,83,352,333,57,101,190,2,147,420,1527,349,7,376,1004,209,386,472,242,472,1066,1192,756,80,583,16,930,117,442,1538,2,86,1326,5611712,194,32,220,59,5996810,2800696,882,444,1,2,80,1,1796,1,9,2,2551,1,748,141,795,563,1,4265,1,1,2,1331,3299,843,2609,155,17,13,72,139,4,2,20,2,169,13,19,46,5,39,96,548,29,2,2,1,2,1,2,2,7,4,1,2,2,2,2,2,2,312,41,513,186,1,1,158,3,2,2,2,2,2,4,2,3,3,233,19,1,4,12,21,1874751,21780086,299865,2772894,93133,1146349,26661,7,2307,338,3,2339,75,2789,497',kBL:'01HL'};google.sn='webhp';google.kHL='en-IN';})();(function(){\n",
        "var f=this||self;var h,k=[];function l(a){for(var b;a&&(!a.getAttribute||!(b=a.getAttribute(\"eid\")));)a=a.parentNode;return b||h}function m(a){for(var b=null;a&&(!a.getAttribute||!(b=a.getAttribute(\"leid\")));)a=a.parentNode;return b}\n",
        "function n(a,b,c,d,g){var e=\"\";c||-1!==b.search(\"&ei=\")||(e=\"&ei=\"+l(d),-1===b.search(\"&lei=\")&&(d=m(d))&&(e+=\"&lei=\"+d));d=\"\";!c&&f._cshid&&-1===b.search(\"&cshid=\")&&\"slh\"!==a&&(d=\"&cshid=\"+f._cshid);c=c||\"/\"+(g||\"gen_204\")+\"?atyp=i&ct=\"+a+\"&cad=\"+b+e+\"&zx=\"+Date.now()+d;/^http:/i.test(c)&&\"https:\"===window.location.protocol&&(google.ml&&google.ml(Error(\"a\"),!1,{src:c,glmm:1}),c=\"\");return c};h=google.kEI;google.getEI=l;google.getLEI=m;google.ml=function(){return null};google.log=function(a,b,c,d,g){if(c=n(a,b,c,d,g)){a=new Image;var e=k.length;k[e]=a;a.onerror=a.onload=a.onabort=function(){delete k[e]};a.src=c}};google.logUrl=n;}).call(this);(function(){\n",
        "google.y={};google.sy=[];google.x=function(a,b){if(a)var c=a.id;else{do c=Math.random();while(google.y[c])}google.y[c]=[a,b];return!1};google.sx=function(a){google.sy.push(a)};google.lm=[];google.plm=function(a){google.lm.push.apply(google.lm,a)};google.lq=[];google.load=function(a,b,c){google.lq.push([[a],b,c])};google.loadAll=function(a,b){google.lq.push([a,b])};google.bx=!1;google.lx=function(){};}).call(this);google.f={};(function(){\n",
        "document.documentElement.addEventListener(\"submit\",function(b){var a;if(a=b.target){var c=a.getAttribute(\"data-submitfalse\");a=\"1\"==c||\"q\"==c&&!a.elements.q.value?!0:!1}else a=!1;a&&(b.preventDefault(),b.stopPropagation())},!0);document.documentElement.addEventListener(\"click\",function(b){var a;a:{for(a=b.target;a&&a!=document.documentElement;a=a.parentElement)if(\"A\"==a.tagName){a=\"1\"==a.getAttribute(\"data-nohref\");break a}a=!1}a&&b.preventDefault()},!0);}).call(this);</script><style>#gbar,#guser{font-size:13px;padding-top:1px !important;}#gbar{height:22px}#guser{padding-bottom:7px !important;text-align:right}.gbh,.gbd{border-top:1px solid #c9d7f1;font-size:1px}.gbh{height:0;position:absolute;top:24px;width:100%}@media all{.gb1{height:22px;margin-right:.5em;vertical-align:top}#gbar{float:left}}a.gb1,a.gb4{text-decoration:underline !important}a.gb1,a.gb4{color:#00c !important}.gbi .gb4{color:#dd8e27 !important}.gbf .gb4{color:#900 !important}\n",
        "</style><style>body,td,a,p,.h{font-family:arial,sans-serif}body{margin:0;overflow-y:scroll}#gog{padding:3px 8px 0}td{line-height:.8em}.gac_m td{line-height:17px}form{margin-bottom:20px}.h{color:#1558d6}em{font-weight:bold;font-style:normal}.lst{height:25px;width:496px}.gsfi,.lst{font:18px arial,sans-serif}.gsfs{font:17px arial,sans-serif}.ds{display:inline-box;display:inline-block;margin:3px 0 4px;margin-left:4px}input{font-family:inherit}body{background:#fff;color:#000}a{color:#4b11a8;text-decoration:none}a:hover,a:active{text-decoration:underline}.fl a{color:#1558d6}a:visited{color:#4b11a8}.sblc{padding-top:5px}.sblc a{display:block;margin:2px 0;margin-left:13px;font-size:11px}.lsbb{background:#f8f9fa;border:solid 1px;border-color:#dadce0 #70757a #70757a #dadce0;height:30px}.lsbb{display:block}#WqQANb a{display:inline-block;margin:0 12px}.lsb{background:url(/images/nav_logo229.png) 0 -261px repeat-x;border:none;color:#000;cursor:pointer;height:30px;margin:0;outline:0;font:15px arial,sans-serif;vertical-align:top}.lsb:active{background:#dadce0}.lst:focus{outline:none}</style><script nonce=\"5dcJqWfksl1xx605qZ6ieg==\"></script></head><body bgcolor=\"#fff\"><script nonce=\"5dcJqWfksl1xx605qZ6ieg==\">(function(){var src='/images/nav_logo229.png';var iesg=false;document.body.onload = function(){window.n && window.n();if (document.images){new Image().src=src;}\n",
        "if (!iesg){document.f&&document.f.q.focus();document.gbqf&&document.gbqf.q.focus();}\n",
        "}\n",
        "})();</script><div id=\"mngb\"><div id=gbar><nobr><b class=gb1>Search</b> <a class=gb1 href=\"https://www.google.co.in/imghp?hl=en&tab=wi\">Images</a> <a class=gb1 href=\"https://maps.google.co.in/maps?hl=en&tab=wl\">Maps</a> <a class=gb1 href=\"https://play.google.com/?hl=en&tab=w8\">Play</a> <a class=gb1 href=\"https://www.youtube.com/?gl=IN&tab=w1\">YouTube</a> <a class=gb1 href=\"https://news.google.com/?tab=wn\">News</a> <a class=gb1 href=\"https://mail.google.com/mail/?tab=wm\">Gmail</a> <a class=gb1 href=\"https://drive.google.com/?tab=wo\">Drive</a> <a class=gb1 style=\"text-decoration:none\" href=\"https://www.google.co.in/intl/en/about/products?tab=wh\"><u>More</u> &raquo;</a></nobr></div><div id=guser width=100%><nobr><span id=gbn class=gbi></span><span id=gbf class=gbf></span><span id=gbe></span><a href=\"http://www.google.co.in/history/optout?hl=en\" class=gb4>Web History</a> | <a  href=\"/preferences?hl=en\" class=gb4>Settings</a> | <a target=_top id=gb_70 href=\"https://accounts.google.com/ServiceLogin?hl=en&passive=true&continue=https://www.google.com/&ec=GAZAAQ\" class=gb4>Sign in</a></nobr></div><div class=gbh style=left:0></div><div class=gbh style=right:0></div></div><center><br clear=\"all\" id=\"lgpd\"><div id=\"lga\"><img alt=\"Google\" height=\"92\" src=\"/images/branding/googlelogo/1x/googlelogo_white_background_color_272x92dp.png\" style=\"padding:28px 0 14px\" width=\"272\" id=\"hplogo\"><br><br></div><form action=\"/search\" name=\"f\"><table cellpadding=\"0\" cellspacing=\"0\"><tr valign=\"top\"><td width=\"25%\">&nbsp;</td><td align=\"center\" nowrap=\"\"><input name=\"ie\" value=\"ISO-8859-1\" type=\"hidden\"><input value=\"en-IN\" name=\"hl\" type=\"hidden\"><input name=\"source\" type=\"hidden\" value=\"hp\"><input name=\"biw\" type=\"hidden\"><input name=\"bih\" type=\"hidden\"><div class=\"ds\" style=\"height:32px;margin:4px 0\"><input class=\"lst\" style=\"margin:0;padding:5px 8px 0 6px;vertical-align:top;color:#000\" autocomplete=\"off\" value=\"\" title=\"Google Search\" maxlength=\"2048\" name=\"q\" size=\"57\"></div><br style=\"line-height:0\"><span class=\"ds\"><span class=\"lsbb\"><input class=\"lsb\" value=\"Google Search\" name=\"btnG\" type=\"submit\"></span></span><span class=\"ds\"><span class=\"lsbb\"><input class=\"lsb\" id=\"tsuid1\" value=\"I'm Feeling Lucky\" name=\"btnI\" type=\"submit\"><script nonce=\"5dcJqWfksl1xx605qZ6ieg==\">(function(){var id='tsuid1';document.getElementById(id).onclick = function(){if (this.form.q.value){this.checked = 1;if (this.form.iflsig)this.form.iflsig.disabled = false;}        \n",
        "else top.location='/doodles/';};})();</script><input value=\"AINFCbYAAAAAYPLP5YoI3Fz2gPWE9HU8Jmw60FhAX885\" name=\"iflsig\" type=\"hidden\"></span></span></td><td class=\"fl sblc\" align=\"left\" nowrap=\"\" width=\"25%\"><a href=\"/advanced_search?hl=en-IN&amp;authuser=0\">Advanced search</a></td></tr></table><input id=\"gbv\" name=\"gbv\" type=\"hidden\" value=\"1\"><script nonce=\"5dcJqWfksl1xx605qZ6ieg==\">(function(){\n",
        "var a,b=\"1\";if(document&&document.getElementById)if(\"undefined\"!=typeof XMLHttpRequest)b=\"2\";else if(\"undefined\"!=typeof ActiveXObject){var c,d,e=[\"MSXML2.XMLHTTP.6.0\",\"MSXML2.XMLHTTP.3.0\",\"MSXML2.XMLHTTP\",\"Microsoft.XMLHTTP\"];for(c=0;d=e[c++];)try{new ActiveXObject(d),b=\"2\"}catch(h){}}a=b;if(\"2\"==a&&-1==location.search.indexOf(\"&gbv=2\")){var f=google.gbvu,g=document.getElementById(\"gbv\");g&&(g.value=a);f&&window.setTimeout(function(){location.href=f},0)};}).call(this);</script></form><div id=\"gac_scont\"></div><div style=\"font-size:83%;min-height:3.5em\"><br><div id=\"gws-output-pages-elements-homepage_additional_languages__als\"><style>#gws-output-pages-elements-homepage_additional_languages__als{font-size:small;margin-bottom:24px}#SIvCob{display:inline-block;line-height:28px;}#SIvCob a{padding:0 3px;}.H6sW5{display:inline-block;margin:0 2px;white-space:nowrap}.z4hgWe{display:inline-block;margin:0 2px}</style><div id=\"SIvCob\">Google offered in:  <a href=\"https://www.google.com/setprefs?sig=0_8VIQKptPz7fkXL_96E7_uHwf2qU%3D&amp;hl=hi&amp;source=homepage&amp;sa=X&amp;ved=0ahUKEwiqo8XxgurxAhWLF4gKHdZVCD8Q2ZgBCAU\">&#2361;&#2367;&#2344;&#2381;&#2342;&#2368;</a>    <a href=\"https://www.google.com/setprefs?sig=0_8VIQKptPz7fkXL_96E7_uHwf2qU%3D&amp;hl=bn&amp;source=homepage&amp;sa=X&amp;ved=0ahUKEwiqo8XxgurxAhWLF4gKHdZVCD8Q2ZgBCAY\">&#2476;&#2494;&#2434;&#2482;&#2494;</a>    <a href=\"https://www.google.com/setprefs?sig=0_8VIQKptPz7fkXL_96E7_uHwf2qU%3D&amp;hl=te&amp;source=homepage&amp;sa=X&amp;ved=0ahUKEwiqo8XxgurxAhWLF4gKHdZVCD8Q2ZgBCAc\">&#3108;&#3142;&#3122;&#3137;&#3095;&#3137;</a>    <a href=\"https://www.google.com/setprefs?sig=0_8VIQKptPz7fkXL_96E7_uHwf2qU%3D&amp;hl=mr&amp;source=homepage&amp;sa=X&amp;ved=0ahUKEwiqo8XxgurxAhWLF4gKHdZVCD8Q2ZgBCAg\">&#2350;&#2352;&#2366;&#2336;&#2368;</a>    <a href=\"https://www.google.com/setprefs?sig=0_8VIQKptPz7fkXL_96E7_uHwf2qU%3D&amp;hl=ta&amp;source=homepage&amp;sa=X&amp;ved=0ahUKEwiqo8XxgurxAhWLF4gKHdZVCD8Q2ZgBCAk\">&#2980;&#2990;&#3007;&#2996;&#3021;</a>    <a href=\"https://www.google.com/setprefs?sig=0_8VIQKptPz7fkXL_96E7_uHwf2qU%3D&amp;hl=gu&amp;source=homepage&amp;sa=X&amp;ved=0ahUKEwiqo8XxgurxAhWLF4gKHdZVCD8Q2ZgBCAo\">&#2711;&#2753;&#2716;&#2736;&#2750;&#2724;&#2752;</a>    <a href=\"https://www.google.com/setprefs?sig=0_8VIQKptPz7fkXL_96E7_uHwf2qU%3D&amp;hl=kn&amp;source=homepage&amp;sa=X&amp;ved=0ahUKEwiqo8XxgurxAhWLF4gKHdZVCD8Q2ZgBCAs\">&#3221;&#3240;&#3277;&#3240;&#3233;</a>    <a href=\"https://www.google.com/setprefs?sig=0_8VIQKptPz7fkXL_96E7_uHwf2qU%3D&amp;hl=ml&amp;source=homepage&amp;sa=X&amp;ved=0ahUKEwiqo8XxgurxAhWLF4gKHdZVCD8Q2ZgBCAw\">&#3374;&#3378;&#3375;&#3390;&#3379;&#3330;</a>    <a href=\"https://www.google.com/setprefs?sig=0_8VIQKptPz7fkXL_96E7_uHwf2qU%3D&amp;hl=pa&amp;source=homepage&amp;sa=X&amp;ved=0ahUKEwiqo8XxgurxAhWLF4gKHdZVCD8Q2ZgBCA0\">&#2602;&#2672;&#2588;&#2622;&#2604;&#2624;</a>  </div></div></div><span id=\"footer\"><div style=\"font-size:10pt\"><div style=\"margin:19px auto;text-align:center\" id=\"WqQANb\"><a href=\"/intl/en/ads/\">Advertising Programs</a><a href=\"http://www.google.co.in/services/\">Business Solutions</a><a href=\"/intl/en/about.html\">About Google</a><a href=\"https://www.google.com/setprefdomain?prefdom=IN&amp;prev=https://www.google.co.in/&amp;sig=K_Yh0W-fpoN7USXl5grphTRHapA_k%3D\">Google.co.in</a></div></div><p style=\"font-size:8pt;color:#70757a\">&copy; 2021 - <a href=\"/intl/en/policies/privacy/\">Privacy</a> - <a href=\"/intl/en/policies/terms/\">Terms</a></p></span></center><script nonce=\"5dcJqWfksl1xx605qZ6ieg==\">(function(){window.google.cdo={height:757,width:1440};(function(){ \n",
        "var a=window.innerWidth,b=window.innerHeight;if(!a||!b){var c=window.document,d=\"CSS1Compat\"==c.compatMode?c.documentElement:c.body;a=d.clientWidth;b=d.clientHeight}a&&b&&(a!=google.cdo.width||b!=google.cdo.height)&&google.log(\"\",\"\",\"/client_204?&atyp=i&biw=\"+a+\"&bih=\"+b+\"&ei=\"+google.kEI);}).call(this);})();</script> <script nonce=\"5dcJqWfksl1xx605qZ6ieg==\">(function(){google.xjs={ck:'',cs:'',excm:[],pml:false};})();</script>  <script nonce=\"5dcJqWfksl1xx605qZ6ieg==\">(function(){var u='/xjs/_/js/k\\x3dxjs.hp.en.u-X60WtIi-Y.O/m\\x3dsb_he,d/am\\x3dAHgCLA/d\\x3d1/ed\\x3d1/rs\\x3dACT90oFXFcDPlsUJm-IpDsVgUo4fehiVPA';\n",
        "var e=this||self,f=function(a){return a};var g;var l=function(a,b){this.g=b===h?a:\"\"};l.prototype.toString=function(){return this.g+\"\"};var h={};function m(){var a=u;google.lx=function(){n(a);google.lx=function(){}};google.bx||google.lx()}\n",
        "function n(a){google.timers&&google.timers.load&&google.tick&&google.tick(\"load\",\"xjsls\");var b=document;var c=\"SCRIPT\";\"application/xhtml+xml\"===b.contentType&&(c=c.toLowerCase());c=b.createElement(c);if(void 0===g){b=null;var k=e.trustedTypes;if(k&&k.createPolicy){try{b=k.createPolicy(\"goog#html\",{createHTML:f,createScript:f,createScriptURL:f})}catch(p){e.console&&e.console.error(p.message)}g=b}else g=b}a=(b=g)?b.createScriptURL(a):a;a=new l(a,h);c.src=a instanceof l&&a.constructor===l?a.g:\"type_error:TrustedResourceUrl\";var d;a=(c.ownerDocument&&c.ownerDocument.defaultView||window).document;(d=(a=null===(d=a.querySelector)||void 0===d?void 0:d.call(a,\"script[nonce]\"))?a.nonce||a.getAttribute(\"nonce\")||\"\":\"\")&&c.setAttribute(\"nonce\",d);document.body.appendChild(c);google.psa=!0};setTimeout(function(){m()},0);})();(function(){window.google.xjsu='/xjs/_/js/k\\x3dxjs.hp.en.u-X60WtIi-Y.O/m\\x3dsb_he,d/am\\x3dAHgCLA/d\\x3d1/ed\\x3d1/rs\\x3dACT90oFXFcDPlsUJm-IpDsVgUo4fehiVPA';})();function _DumpException(e){throw e;}\n",
        "function _F_installCss(c){}\n",
        "(function(){google.jl={attn:false,blt:'none',chnk:0,dw:false,emtn:0,end:0,ine:false,lls:'default',pdt:0,rep:0,snet:true,strt:0,ubm:false,uwp:true};})();(function(){var pmc='{\\x22d\\x22:{},\\x22sb_he\\x22:{\\x22agen\\x22:true,\\x22cgen\\x22:true,\\x22client\\x22:\\x22heirloom-hp\\x22,\\x22dh\\x22:true,\\x22dhqt\\x22:true,\\x22ds\\x22:\\x22\\x22,\\x22ffql\\x22:\\x22en\\x22,\\x22fl\\x22:true,\\x22host\\x22:\\x22google.com\\x22,\\x22isbh\\x22:28,\\x22jsonp\\x22:true,\\x22msgs\\x22:{\\x22cibl\\x22:\\x22Clear Search\\x22,\\x22dym\\x22:\\x22Did you mean:\\x22,\\x22lcky\\x22:\\x22I\\\\u0026#39;m Feeling Lucky\\x22,\\x22lml\\x22:\\x22Learn more\\x22,\\x22oskt\\x22:\\x22Input tools\\x22,\\x22psrc\\x22:\\x22This search was removed from your \\\\u003Ca href\\x3d\\\\\\x22/history\\\\\\x22\\\\u003EWeb History\\\\u003C/a\\\\u003E\\x22,\\x22psrl\\x22:\\x22Remove\\x22,\\x22sbit\\x22:\\x22Search by image\\x22,\\x22srch\\x22:\\x22Google Search\\x22},\\x22ovr\\x22:{},\\x22pq\\x22:\\x22\\x22,\\x22refpd\\x22:true,\\x22rfs\\x22:[],\\x22sbas\\x22:\\x220 3px 8px 0 rgba(0,0,0,0.2),0 0 0 1px rgba(0,0,0,0.08)\\x22,\\x22sbpl\\x22:16,\\x22sbpr\\x22:16,\\x22scd\\x22:10,\\x22stok\\x22:\\x22kRurXs3uwnqyLr6iVjP5pob6G9I\\x22,\\x22uhde\\x22:false}}';google.pmc=JSON.parse(pmc);})();</script>        </body></html>\n",
        "\"\"\""
      ]
    },
    {
      "cell_type": "code",
      "metadata": {
        "id": "MO1Rbq8zdqDm"
      },
      "source": [
        "#c) Write a simple script that servers a simple HHTPResponse and simple HTML Page "
      ],
      "execution_count": null,
      "outputs": []
    },
    {
      "cell_type": "code",
      "metadata": {
        "id": "fT7lyyejdqLZ",
        "colab": {
          "base_uri": "https://localhost:8080/"
        },
        "outputId": "581e3ad0-cede-4102-8071-c65ee241b614"
      },
      "source": [
        "#Exercise-13 oops\n",
        "#a)Class varibles and instance variable and illustration of the self-variable\n",
        "\n",
        "#Robot\n",
        "\n",
        "class robot:\n",
        "    name=\"Ganesh Reedy\"\n",
        "    version=2.0\n",
        "    speed=\"1THz\"\n",
        "    memory=\"1ZB\"\n",
        "    \n",
        "    def robotspecifications(self):\n",
        "        print(\"Robot Name : \",robo.name)\n",
        "        print(\" Version : \",robo.version)\n",
        "        print(\"Speed : \",robo.speed)\n",
        "        print(\"Memory : \",robo.memory)\n",
        "    def update(up):\n",
        "        up.version=3.0\n",
        "        up.speed=\"2THz\"\n",
        "        up.memory=\"2ZB\"    \n",
        "robo=robot()\n",
        "\n",
        "robo.robotspecifications()\n",
        "\n",
        " \n",
        "c=input(\"want to upgrade the Robot Features to 100% (y/n): \")\n",
        "\n",
        "if c=='y':\n",
        "    robo.update()\n",
        "\n",
        "robo.robotspecifications()\n"
      ],
      "execution_count": null,
      "outputs": [
        {
          "output_type": "stream",
          "text": [
            "Robot Name :  Ganesh Reedy\n",
            " Version :  2.0\n",
            "Speed :  1THz\n",
            "Memory :  1ZB\n",
            "want to upgrade the Robot Features to 100% (y/n): y\n",
            "Robot Name :  Ganesh Reedy\n",
            " Version :  3.0\n",
            "Speed :  2THz\n",
            "Memory :  2ZB\n"
          ],
          "name": "stdout"
        }
      ]
    },
    {
      "cell_type": "code",
      "metadata": {
        "id": "wwoHaTOAdwEa",
        "colab": {
          "base_uri": "https://localhost:8080/"
        },
        "outputId": "b3743c6e-8fab-4874-ebe5-3c1a404553f5"
      },
      "source": [
        "#b)ATM Macine\n",
        "\n",
        "class Bank_of_Swarnandhra_ATM:\n",
        "    def __init__(self):\n",
        "        self.balance=0\n",
        "        \n",
        "    def balance_enquiry(self):\n",
        "        print(\"Balance in yoour Account = \",self.balance)  \n",
        "    \n",
        "    def deposit(self):\n",
        "        amount=int(input(\"enter Amount : \"))\n",
        "        self.balance+=amount \n",
        "        print(\"Amount is successfully Deposited....\")  \n",
        "    \n",
        "    def withdraw(self):\n",
        "        amount=int(input(\"enter Amount : \"))\n",
        "        if amount<=self.balance:\n",
        "            print(\"*****Thank You take Money*****\")\n",
        "            self.balance-=amount   \n",
        "        else:\n",
        "            print(\"Sorry insufficient Balance\")        \n",
        "    \n",
        "    def exit(self):\n",
        "        print(\"Thank you\")\n",
        "bank=Bank_of_Swarnandhra_ATM()\n",
        "\n",
        "while(True):\n",
        "    print(\"1.Balance Enquiry\")\n",
        "    print(\"2.Deposit\")\n",
        "    print(\"3.withdraw\")\n",
        "    print(\"4.exit\")\n",
        "    c=int(input(\"enter your option:\"))\n",
        "    if c==1:\n",
        "        bank.balance_enquiry()\n",
        "    elif c==2:\n",
        "        bank.deposit()\n",
        "    elif c==3:\n",
        "        bank.withdraw()\n",
        "    elif c==4:\n",
        "        break    \n",
        "    else:\n",
        "        print(\"invald option\")\n",
        "        pass\n",
        "                     "
      ],
      "execution_count": null,
      "outputs": [
        {
          "output_type": "stream",
          "text": [
            "1.Balance Enquiry\n",
            "2.Deposit\n",
            "3.withdraw\n",
            "4.exit\n",
            "enter your option:1\n",
            "Balance in yoour Account =  0\n",
            "1.Balance Enquiry\n",
            "2.Deposit\n",
            "3.withdraw\n",
            "4.exit\n",
            "enter your option:2\n",
            "enter Amount : 10000\n",
            "Amount is successfully Deposited....\n",
            "1.Balance Enquiry\n",
            "2.Deposit\n",
            "3.withdraw\n",
            "4.exit\n",
            "enter your option:3\n",
            "enter Amount : 5000\n",
            "*****Thank You take Money*****\n",
            "1.Balance Enquiry\n",
            "2.Deposit\n",
            "3.withdraw\n",
            "4.exit\n",
            "enter your option:1\n",
            "Balance in yoour Account =  5000\n",
            "1.Balance Enquiry\n",
            "2.Deposit\n",
            "3.withdraw\n",
            "4.exit\n",
            "enter your option:4\n"
          ],
          "name": "stdout"
        }
      ]
    },
    {
      "cell_type": "code",
      "metadata": {
        "id": "vNvxwTfadwq4"
      },
      "source": [
        "#Exercise-14 GUI,Graphics\n",
        "\n",
        "#write a GUI for an Expression Calculater using tk"
      ],
      "execution_count": null,
      "outputs": []
    },
    {
      "cell_type": "code",
      "metadata": {
        "id": "FWH0F4DFfZVa"
      },
      "source": [
        "#2)Write a program to implement the following figures using turtle\n",
        " #a)\n",
        " import turtle\n",
        "\n",
        "turtle.pensize(3)\n",
        "turtle.speed(20)\n",
        "turtle.bgcolor(\"black\")\n",
        "\n",
        " \n",
        "for i in range(5):\n",
        "    for col in [\"blue\",\"red\",\"yellow\"] :\n",
        "     turtle.color(col)   \n",
        "     turtle.circle(55)\n",
        "     turtle.left(30)\n",
        "turtle.done()"
      ],
      "execution_count": null,
      "outputs": []
    },
    {
      "cell_type": "code",
      "metadata": {
        "id": "gpWlOJzlfp4N"
      },
      "source": [
        "#b)\n",
        "import turtle  \n",
        "   \n",
        "t = turtle.Turtle()  \n",
        "turtle.pensize(2)  \n",
        "turtle.speed(100)  \n",
        " \n",
        "for i in range(40):\n",
        "    for j in range(4):\n",
        "        turtle.forward(70)\n",
        "        turtle.left(90)\n",
        "    turtle.left(10)        \n",
        "turtle.done() "
      ],
      "execution_count": null,
      "outputs": []
    },
    {
      "cell_type": "code",
      "metadata": {
        "id": "ZZrcM8e2qiq0",
        "outputId": "7f6fe1cc-9c3f-4b71-a4a7-58a4231c7fc4",
        "colab": {
          "base_uri": "https://localhost:8080/"
        }
      },
      "source": [
        "                            #Exercise-15\n",
        "#a)write a test-case to check function even numbers which return True on passing a list of all even numbers\n",
        "\n",
        "def checklistiseven(elements):\n",
        "    p=True\n",
        "    for i in elements:\n",
        "        if i%2==1:\n",
        "            p=False\n",
        "            break\n",
        "    return p\n",
        "            \n",
        "          \n",
        "elements=[]\n",
        "\n",
        "n=int(input(\"enter limit of input: \"))\n",
        "\n",
        "for i in range(n):\n",
        "    elements.append(int(input(\"element-\"+str(i+1)+\" : \")))\n",
        "\n",
        "print(checklistiseven(elements))    \n"
      ],
      "execution_count": 1,
      "outputs": [
        {
          "output_type": "stream",
          "text": [
            "enter limit of input: 5\n",
            "element-1 : 34\n",
            "element-2 : 46\n",
            "element-3 : 58\n",
            "element-4 : 8\n",
            "element-5 : 10\n",
            "True\n"
          ],
          "name": "stdout"
        }
      ]
    },
    {
      "cell_type": "code",
      "metadata": {
        "id": "AjWQyRfWq-Tw",
        "outputId": "e27459c1-5cf3-45c1-fffa-87e0ad014430",
        "colab": {
          "base_uri": "https://localhost:8080/"
        }
      },
      "source": [
        "#b)write a test-case to check function reverse string which returns the reversed string\n",
        "\n",
        "\n",
        "def rev_string(name):\n",
        "    return name[::-1]\n",
        "\n",
        "\n",
        "name=input(\"enter any String: \")\n",
        "\n",
        "print(\"Reverse of the given String = \"+rev_string(name))\n"
      ],
      "execution_count": 2,
      "outputs": [
        {
          "output_type": "stream",
          "text": [
            "enter any String: pavaneswar\n",
            "Reverse of the given String = rawsenavap\n"
          ],
          "name": "stdout"
        }
      ]
    },
    {
      "cell_type": "code",
      "metadata": {
        "id": "dhaLTg8OrF2a",
        "outputId": "a5835806-60c3-43df-a748-24b3cb1245fc",
        "colab": {
          "base_uri": "https://localhost:8080/"
        }
      },
      "source": [
        "                                  #Exercise-16\n",
        "\n",
        "#a)Build any one classical data structure                                  \n",
        "\n",
        "\n",
        "stack=[]\n",
        "\n",
        "while True:\n",
        "    print(\"1.Push\\n2.Pop\\n3.Display\\n4.Exit\")\n",
        "    c=int(input(\"enter your choice: \"))\n",
        "    \n",
        "    if c==1:\n",
        "        e=int(input(\"enter element: \"))\n",
        "        stack.append(e)\n",
        "        print(\"element is Pushed\")\n",
        "    elif c==2:\n",
        "        if len(stack)==0:\n",
        "            print(\"stack is empty\")\n",
        "        else:\n",
        "            print(\"element \"+str(stack[len(stack)-1])+\" is Poped\")\n",
        "            stack.remove(stack[len(stack)-1])\n",
        "    elif c==3:\n",
        "        if len(stack)==0:\n",
        "            print(\"stack is empty\")\n",
        "        else:\n",
        "            print(\"elements in the stack : \"+str(stack))    \n",
        "    elif c==4:\n",
        "        break\n",
        "    else:\n",
        "        print(\"invalid choice......\")\n",
        "\n",
        "13"
      ],
      "execution_count": 3,
      "outputs": [
        {
          "output_type": "stream",
          "text": [
            "1.Push\n",
            "2.Pop\n",
            "3.Display\n",
            "4.Exit\n",
            "enter your choice: 1\n",
            "enter element: 100\n",
            "element is Pushed\n",
            "1.Push\n",
            "2.Pop\n",
            "3.Display\n",
            "4.Exit\n",
            "enter your choice: 1\n",
            "enter element: 200\n",
            "element is Pushed\n",
            "1.Push\n",
            "2.Pop\n",
            "3.Display\n",
            "4.Exit\n",
            "enter your choice: 1\n",
            "enter element: 300\n",
            "element is Pushed\n",
            "1.Push\n",
            "2.Pop\n",
            "3.Display\n",
            "4.Exit\n",
            "enter your choice: 3\n",
            "elements in the stack : [100, 200, 300]\n",
            "1.Push\n",
            "2.Pop\n",
            "3.Display\n",
            "4.Exit\n",
            "enter your choice: 2\n",
            "element 300 is Poped\n",
            "1.Push\n",
            "2.Pop\n",
            "3.Display\n",
            "4.Exit\n",
            "enter your choice: 3\n",
            "elements in the stack : [100, 200]\n",
            "1.Push\n",
            "2.Pop\n",
            "3.Display\n",
            "4.Exit\n",
            "enter your choice: 4\n"
          ],
          "name": "stdout"
        }
      ]
    },
    {
      "cell_type": "code",
      "metadata": {
        "id": "RhzZC1tMtE5Q"
      },
      "source": [
        "#b)write a program to solve knapsack problem"
      ],
      "execution_count": null,
      "outputs": []
    }
  ]
}