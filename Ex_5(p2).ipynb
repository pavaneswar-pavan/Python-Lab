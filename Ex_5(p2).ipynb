{
  "nbformat": 4,
  "nbformat_minor": 0,
  "metadata": {
    "colab": {
      "name": "Ex_5(p2).ipynb",
      "provenance": [],
      "authorship_tag": "ABX9TyOGCbhgElF3mgsiet7Fo1Vn",
      "include_colab_link": true
    },
    "kernelspec": {
      "name": "python3",
      "display_name": "Python 3"
    },
    "language_info": {
      "name": "python"
    }
  },
  "cells": [
    {
      "cell_type": "markdown",
      "metadata": {
        "id": "view-in-github",
        "colab_type": "text"
      },
      "source": [
        "<a href=\"https://colab.research.google.com/github/pavaneswar-pavan/Python-Lab/blob/main/Ex_5(p2).ipynb\" target=\"_parent\"><img src=\"https://colab.research.google.com/assets/colab-badge.svg\" alt=\"Open In Colab\"/></a>"
      ]
    },
    {
      "cell_type": "code",
      "metadata": {
        "colab": {
          "base_uri": "https://localhost:8080/"
        },
        "id": "SkMRCKjx4DC2",
        "outputId": "d88e5606-30b4-4dc3-becc-ed6767f1f407"
      },
      "source": [
        "text={\"pavan\":\"02-june-2000\",\"ganesh\":\"24-may-2001\"}\n",
        "\n",
        "name=input(\"which person Dob you want : \")\n",
        "l=name.split()\n",
        " \n",
        "for i in l:\n",
        "  if i in text.keys():\n",
        "    print(\" \".join([i,\"birthday is \",text[i]]))\n",
        "\n",
        " \n",
        "\n",
        "\n"
      ],
      "execution_count": 25,
      "outputs": [
        {
          "output_type": "stream",
          "text": [
            "which person Dob you want : i want ganesh birthday\n",
            "ganesh birthday is  24-may-2001\n"
          ],
          "name": "stdout"
        }
      ]
    }
  ]
}