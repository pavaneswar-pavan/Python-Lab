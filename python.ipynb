{
  "nbformat": 4,
  "nbformat_minor": 0,
  "metadata": {
    "colab": {
      "name": " python.ipynb",
      "provenance": [],
      "authorship_tag": "ABX9TyOFhKL3c8WUILeuCj9wA/bZ",
      "include_colab_link": true
    },
    "kernelspec": {
      "name": "python3",
      "display_name": "Python 3"
    },
    "language_info": {
      "name": "python"
    }
  },
  "cells": [
    {
      "cell_type": "markdown",
      "metadata": {
        "id": "view-in-github",
        "colab_type": "text"
      },
      "source": [
        "<a href=\"https://colab.research.google.com/github/pavaneswar-pavan/Python-Lab/blob/main/python.ipynb\" target=\"_parent\"><img src=\"https://colab.research.google.com/assets/colab-badge.svg\" alt=\"Open In Colab\"/></a>"
      ]
    },
    {
      "cell_type": "code",
      "metadata": {
        "colab": {
          "base_uri": "https://localhost:8080/"
        },
        "id": "vzsLzngerg00",
        "outputId": "b7d8cd38-4c97-4f15-9b53-b52d5f30c693"
      },
      "source": [
        "print(\"hii ganesh\")"
      ],
      "execution_count": 1,
      "outputs": [
        {
          "output_type": "stream",
          "text": [
            "hii ganesh\n"
          ],
          "name": "stdout"
        }
      ]
    }
  ]
}