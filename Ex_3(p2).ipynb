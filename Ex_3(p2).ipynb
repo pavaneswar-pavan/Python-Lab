{
  "nbformat": 4,
  "nbformat_minor": 0,
  "metadata": {
    "colab": {
      "name": " Ex_3(p2).ipynb",
      "provenance": [],
      "authorship_tag": "ABX9TyP8ObSyl0Qd0vbomRSnDYdp",
      "include_colab_link": true
    },
    "kernelspec": {
      "name": "python3",
      "display_name": "Python 3"
    },
    "language_info": {
      "name": "python"
    }
  },
  "cells": [
    {
      "cell_type": "markdown",
      "metadata": {
        "id": "view-in-github",
        "colab_type": "text"
      },
      "source": [
        "<a href=\"https://colab.research.google.com/github/pavaneswar-pavan/Python-Lab/blob/main/Ex_3(p2).ipynb\" target=\"_parent\"><img src=\"https://colab.research.google.com/assets/colab-badge.svg\" alt=\"Open In Colab\"/></a>"
      ]
    },
    {
      "cell_type": "code",
      "metadata": {
        "colab": {
          "base_uri": "https://localhost:8080/"
        },
        "id": "SkMRCKjx4DC2",
        "outputId": "829d4813-4e08-4fda-ca28-a9109dd070fe"
      },
      "source": [
        " # Using a for loop, write a program that prints out the decimal equivalents of 1/2, 1/3, 1/4,. .1/10 \n",
        "\n",
        "n=int(input(\"enter limit for decimal equivalents of (1/2, 1/3, 1/4,. .1/10) : \"))\n",
        "\n",
        "for i in range(2,n):\n",
        "    print(\"1/\",i,\" = \",(1/i))"
      ],
      "execution_count": 4,
      "outputs": [
        {
          "output_type": "stream",
          "text": [
            "enter limit for decimal equivalents of (1/2, 1/3, 1/4,. .1/10) : 10\n",
            "1/ 2  =  0.5\n",
            "1/ 3  =  0.3333333333333333\n",
            "1/ 4  =  0.25\n",
            "1/ 5  =  0.2\n",
            "1/ 6  =  0.16666666666666666\n",
            "1/ 7  =  0.14285714285714285\n",
            "1/ 8  =  0.125\n",
            "1/ 9  =  0.1111111111111111\n"
          ],
          "name": "stdout"
        }
      ]
    }
  ]
}