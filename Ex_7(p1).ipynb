{
  "nbformat": 4,
  "nbformat_minor": 0,
  "metadata": {
    "colab": {
      "name": "Ex_7(p1).ipynb",
      "provenance": [],
      "authorship_tag": "ABX9TyNGaYiw3jsoxKMIKXRkJVQS",
      "include_colab_link": true
    },
    "kernelspec": {
      "name": "python3",
      "display_name": "Python 3"
    },
    "language_info": {
      "name": "python"
    }
  },
  "cells": [
    {
      "cell_type": "markdown",
      "metadata": {
        "id": "view-in-github",
        "colab_type": "text"
      },
      "source": [
        "<a href=\"https://colab.research.google.com/github/pavaneswar-pavan/Python-Lab/blob/main/Ex_7(p1).ipynb\" target=\"_parent\"><img src=\"https://colab.research.google.com/assets/colab-badge.svg\" alt=\"Open In Colab\"/></a>"
      ]
    },
    {
      "cell_type": "code",
      "metadata": {
        "id": "SkMRCKjx4DC2"
      },
      "source": [
        "file=open(\"abc.txt\",\"r\")\n",
        "if file:\n",
        "  st=file.read()\n",
        "  print(\"File content is: \\n\",st)\n",
        "file.close()\n",
        "\n",
        "print()\n",
        "lines=st.split(\"\\n\")\n",
        "\n",
        "for ln in lines:\n",
        "  i=lcn(ln)-1\n",
        "  while(i>=0):\n",
        "    print(ln[i],end=\"\")\n",
        "    i=i-1\n",
        "  print()  \n",
        "\n"
      ],
      "execution_count": null,
      "outputs": []
    }
  ]
}