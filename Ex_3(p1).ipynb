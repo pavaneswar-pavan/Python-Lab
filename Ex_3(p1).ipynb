{
  "nbformat": 4,
  "nbformat_minor": 0,
  "metadata": {
    "colab": {
      "name": " Ex_3(p1).ipynb",
      "provenance": [],
      "authorship_tag": "ABX9TyOLjXKvgYbvGgXy+GliYtF1",
      "include_colab_link": true
    },
    "kernelspec": {
      "name": "python3",
      "display_name": "Python 3"
    },
    "language_info": {
      "name": "python"
    }
  },
  "cells": [
    {
      "cell_type": "markdown",
      "metadata": {
        "id": "view-in-github",
        "colab_type": "text"
      },
      "source": [
        "<a href=\"https://colab.research.google.com/github/pavaneswar-pavan/Python-Lab/blob/main/Ex_3(p1).ipynb\" target=\"_parent\"><img src=\"https://colab.research.google.com/assets/colab-badge.svg\" alt=\"Open In Colab\"/></a>"
      ]
    },
    {
      "cell_type": "code",
      "metadata": {
        "colab": {
          "base_uri": "https://localhost:8080/"
        },
        "id": "SkMRCKjx4DC2",
        "outputId": "155b4c6a-f113-46b3-89f3-bf9fc365ce67"
      },
      "source": [
        "# Write a Program for checking whether the given number is an even number or not. \n",
        "n=int(input(\"enter a number to check even/odd : \"))\n",
        "\n",
        "if (n%2==0):\n",
        "    print(\"Given numver \",n,\" is Even\")\n",
        "else:\n",
        "    print(\"Given numver \",n,\" is Odd\")    "
      ],
      "execution_count": 3,
      "outputs": [
        {
          "output_type": "stream",
          "text": [
            "enter a number to check even/odd : 7\n",
            "Given numver  7  is Odd\n"
          ],
          "name": "stdout"
        }
      ]
    }
  ]
}