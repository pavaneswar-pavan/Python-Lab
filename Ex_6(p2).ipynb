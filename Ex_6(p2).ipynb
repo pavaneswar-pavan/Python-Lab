{
  "nbformat": 4,
  "nbformat_minor": 0,
  "metadata": {
    "colab": {
      "name": "Ex_6(p2).ipynb",
      "provenance": [],
      "authorship_tag": "ABX9TyNt7UEK0wlE278vktui5KXG",
      "include_colab_link": true
    },
    "kernelspec": {
      "name": "python3",
      "display_name": "Python 3"
    },
    "language_info": {
      "name": "python"
    }
  },
  "cells": [
    {
      "cell_type": "markdown",
      "metadata": {
        "id": "view-in-github",
        "colab_type": "text"
      },
      "source": [
        "<a href=\"https://colab.research.google.com/github/pavaneswar-pavan/Python-Lab/blob/main/Ex_6(p2).ipynb\" target=\"_parent\"><img src=\"https://colab.research.google.com/assets/colab-badge.svg\" alt=\"Open In Colab\"/></a>"
      ]
    },
    {
      "cell_type": "code",
      "metadata": {
        "id": "SkMRCKjx4DC2"
      },
      "source": [
        "filetype=['.py','.c','.txt']\n",
        "fn=input(\"enter the file name : \")\n",
        "f=open(fn,\"r\")\n",
        "count=dict()\n",
        "\n",
        "print(\"Given file is \",end=\"\")\n",
        "for ft in filetype:\n",
        "  if (ft in fn):\n",
        "    if(ft=='.py'):\n",
        "      print(\"python file\")\n",
        "    elif(ft=='.c'):\n",
        "      print(\"c file\")\n",
        "    elif(ft=='.txt'):\n",
        "      print(\"Text file\")    \n",
        "for line in f:\n",
        "  for ch in line:\n",
        "    if ch in ount:\n",
        "      count[ch]=count[ch]+1\n",
        "    else:\n",
        "      count[ch]=1\n",
        "\n",
        "print(count)\n",
        "f.close()\n",
        "\n",
        "       \n",
        "\n",
        " "
      ],
      "execution_count": null,
      "outputs": []
    }
  ]
}