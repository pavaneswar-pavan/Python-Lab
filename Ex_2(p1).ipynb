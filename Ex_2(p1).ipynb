{
  "nbformat": 4,
  "nbformat_minor": 0,
  "metadata": {
    "colab": {
      "name": " Ex-2(p1).ipynb",
      "provenance": [],
      "authorship_tag": "ABX9TyOoBE+nHAd/jQEKgz58aoMz",
      "include_colab_link": true
    },
    "kernelspec": {
      "name": "python3",
      "display_name": "Python 3"
    },
    "language_info": {
      "name": "python"
    }
  },
  "cells": [
    {
      "cell_type": "markdown",
      "metadata": {
        "id": "view-in-github",
        "colab_type": "text"
      },
      "source": [
        "<a href=\"https://colab.research.google.com/github/pavaneswar-pavan/Python-Lab/blob/main/Ex_2(p1).ipynb\" target=\"_parent\"><img src=\"https://colab.research.google.com/assets/colab-badge.svg\" alt=\"Open In Colab\"/></a>"
      ]
    },
    {
      "cell_type": "code",
      "metadata": {
        "colab": {
          "base_uri": "https://localhost:8080/"
        },
        "id": "3-Qoqpg81rpQ",
        "outputId": "873b67e7-7d0f-459d-a070-e5ad13f99c07"
      },
      "source": [
        "#Write a program to compute distance between two points taking input from the user (Pythagorean Theorem)\n",
        "import math\n",
        "x1=int(input(\"enter x1 value : \"))\n",
        "x2=int(input(\"enter x2 value : \"))\n",
        "\n",
        "y1=int(input(\"enter y1 value : \"))\n",
        "y2=int(input(\"enter y2 value : \"))\n",
        "\n",
        "print(\"Distance between given two points(x1,x2)(y1,y2) :\",float(math.sqrt((x2-x1)**2+(y2-y1)**2)))"
      ],
      "execution_count": 3,
      "outputs": [
        {
          "output_type": "stream",
          "text": [
            "enter x1 value : 10\n",
            "enter x2 value : 5\n",
            "enter y1 value : 8\n",
            "enter y2 value : 6\n",
            "Distance between given two points(x1,x2)(y1,y2) : 5.385164807134504\n"
          ],
          "name": "stdout"
        }
      ]
    }
  ]
}