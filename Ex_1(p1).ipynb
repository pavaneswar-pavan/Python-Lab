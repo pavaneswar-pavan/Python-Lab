{
  "nbformat": 4,
  "nbformat_minor": 0,
  "metadata": {
    "colab": {
      "name": "Ex_1(p1).ipynb",
      "provenance": [],
      "authorship_tag": "ABX9TyOVlqiYzrMX0gzet0ge+1z/",
      "include_colab_link": true
    },
    "kernelspec": {
      "name": "python3",
      "display_name": "Python 3"
    },
    "language_info": {
      "name": "python"
    }
  },
  "cells": [
    {
      "cell_type": "markdown",
      "metadata": {
        "id": "view-in-github",
        "colab_type": "text"
      },
      "source": [
        "<a href=\"https://colab.research.google.com/github/pavaneswar-pavan/Python-Lab/blob/main/Ex_1(p1).ipynb\" target=\"_parent\"><img src=\"https://colab.research.google.com/assets/colab-badge.svg\" alt=\"Open In Colab\"/></a>"
      ]
    },
    {
      "cell_type": "code",
      "metadata": {
        "colab": {
          "base_uri": "https://localhost:8080/"
        },
        "id": "SkMRCKjx4DC2",
        "outputId": "2a161bea-fb89-44c7-f573-7e7dc8a2c92e"
      },
      "source": [
        " print(\"hello,pavaneswar\")"
      ],
      "execution_count": 15,
      "outputs": [
        {
          "output_type": "stream",
          "text": [
            "hello,pavaneswar\n"
          ],
          "name": "stdout"
        }
      ]
    }
  ]
}