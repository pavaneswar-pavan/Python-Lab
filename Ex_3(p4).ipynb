{
  "nbformat": 4,
  "nbformat_minor": 0,
  "metadata": {
    "colab": {
      "name": " Ex_3(p3).ipynb",
      "provenance": [],
      "authorship_tag": "ABX9TyMtbaerovaD3MTnoJr+U4zU",
      "include_colab_link": true
    },
    "kernelspec": {
      "name": "python3",
      "display_name": "Python 3"
    },
    "language_info": {
      "name": "python"
    }
  },
  "cells": [
    {
      "cell_type": "markdown",
      "metadata": {
        "id": "view-in-github",
        "colab_type": "text"
      },
      "source": [
        "<a href=\"https://colab.research.google.com/github/pavaneswar-pavan/Python-Lab/blob/main/Ex_3(p4).ipynb\" target=\"_parent\"><img src=\"https://colab.research.google.com/assets/colab-badge.svg\" alt=\"Open In Colab\"/></a>"
      ]
    },
    {
      "cell_type": "code",
      "metadata": {
        "colab": {
          "base_uri": "https://localhost:8080/"
        },
        "id": "SkMRCKjx4DC2",
        "outputId": "1075ecdb-8db0-40b7-d6b3-eed78ab4cba7"
      },
      "source": [
        " # Write a program using a while loop that asks the user for a number, and prints a countdown from that number to zero.\n",
        "\n",
        "n=int(input(\"enter starting point of Countdown: \"))\n",
        "\n",
        "print(\"Countdown Starts:-\")\n",
        "while n>=0:\n",
        "    print(n)\n",
        "    n-=1\n",
        "    "
      ],
      "execution_count": 6,
      "outputs": [
        {
          "output_type": "stream",
          "text": [
            "enter starting point of Countdown: 10\n",
            "Countdown Starts:-\n",
            "10\n",
            "9\n",
            "8\n",
            "7\n",
            "6\n",
            "5\n",
            "4\n",
            "3\n",
            "2\n",
            "1\n",
            "0\n"
          ],
          "name": "stdout"
        }
      ]
    }
  ]
}